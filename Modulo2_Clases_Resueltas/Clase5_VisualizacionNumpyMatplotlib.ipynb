{
 "cells": [
  {
   "cell_type": "markdown",
   "metadata": {},
   "source": [
    "<img style=\"float: left;;\" src='Imagenes/iteso.jpg' width=\"50\" height=\"100\"/></a>\n",
    "\n",
    "# <center> <font color= #000047> Módulo 2: Visualización con Numpy y Matplotlib\n"
   ]
  },
  {
   "cell_type": "markdown",
   "metadata": {},
   "source": [
    "\n",
    "<img style=\"float: right; margin: 0px 0px 15px 15px;\" src=\"https://matplotlib.org/_static/logo2.png\" width=\"400px\" height=\"400px\" />\n",
    "\n",
    "> La clase anterior nos introdujimos al grandísimo mundo de las librerías, y comenzamos con una de las librerías más importantes de Python: NumPy.\n",
    "\n",
    "> Por si sola, NumPy es una de las librerías más potentes y versátiles para Python. Sin embargo, lo es aún más cuando la combinamos con otras librerías.\n",
    "\n",
    "> Hoy estudiaremos la librería `matplotlib`, que nos provee numerosos y poderosos comandos para producir gráficos de alta calidad.\n",
    "\n",
    "Referencias:\n",
    "- https://matplotlib.org/\n",
    "- https://towardsdatascience.com/data-science-with-python-intro-to-data-visualization-and-matplotlib-5f799b7c6d82\n",
    "___"
   ]
  },
  {
   "cell_type": "markdown",
   "metadata": {},
   "source": [
    "# 0. Motivación\n",
    "\n",
    "Cuando un científico de datos trabaja, típicamente los datos que utiliza están guardados en archivos `.csv`, archivos de excel, bases de datos y otros tipos de formatos. \n",
    "\n",
    "Estos datos se deben cargar a Python dentro de alguno de los tipos de variables disponibles: NumPy `ndarray`, Pandas `DataFrame` (estos son los más comunes, y los estaremos estudiando la próxima clase).\n",
    "\n",
    "Una vez tenemos los datos dentro de variables en Python, podemos proceder a graficarlos fácilmente."
   ]
  },
  {
   "cell_type": "markdown",
   "metadata": {},
   "source": [
    "Por otra parte, la visualización de datos es una parte muy importante del análisis de datos.\n",
    "\n",
    "- Puedes usarla para explorar los datos gráficamente.\n",
    "\n",
    "- Si ya hay un buen entendimiento de los datos, tendrás una mejor oportunidad de ganar intuición.\n",
    "\n",
    "- Finalmente, si ya has visto algún patrón en los datos, puedes usar visualizaciones para compartir tus ideas con otras personas.\n",
    "___"
   ]
  },
  {
   "cell_type": "markdown",
   "metadata": {},
   "source": [
    "# 1. Conociendo matplotlib: gráficos de funciones\n",
    "\n",
    "Antes de empezar a revisar distintos tipos gráficos para datos, vamos a comenzar con un tipo de gráfico muy básico, y al que estamos habituados desde la secundaria/preparatoria: **gráficos de funciones**.\n",
    "\n",
    "Para empezar a trabajar con una librería, ¿qué tenemos que hacer?"
   ]
  },
  {
   "cell_type": "code",
   "execution_count": 1,
   "metadata": {},
   "outputs": [],
   "source": [
    "# Importar el módulo pyplot de la librería matplotlib\n",
    "import numpy as np\n",
    "import matplotlib.pyplot as plt\n"
   ]
  },
  {
   "cell_type": "markdown",
   "metadata": {},
   "source": [
    "### Graficando funciones seno y coseno:"
   ]
  },
  {
   "cell_type": "code",
   "execution_count": 2,
   "metadata": {
    "scrolled": true
   },
   "outputs": [
    {
     "name": "stdout",
     "output_type": "stream",
     "text": [
      "Help on function plot in module matplotlib.pyplot:\n",
      "\n",
      "plot(*args, scalex=True, scaley=True, data=None, **kwargs)\n",
      "    Plot y versus x as lines and/or markers.\n",
      "    \n",
      "    Call signatures::\n",
      "    \n",
      "        plot([x], y, [fmt], *, data=None, **kwargs)\n",
      "        plot([x], y, [fmt], [x2], y2, [fmt2], ..., **kwargs)\n",
      "    \n",
      "    The coordinates of the points or line nodes are given by *x*, *y*.\n",
      "    \n",
      "    The optional parameter *fmt* is a convenient way for defining basic\n",
      "    formatting like color, marker and linestyle. It's a shortcut string\n",
      "    notation described in the *Notes* section below.\n",
      "    \n",
      "    >>> plot(x, y)        # plot x and y using default line style and color\n",
      "    >>> plot(x, y, 'bo')  # plot x and y using blue circle markers\n",
      "    >>> plot(y)           # plot y using x as index array 0..N-1\n",
      "    >>> plot(y, 'r+')     # ditto, but with red plusses\n",
      "    \n",
      "    You can use `.Line2D` properties as keyword arguments for more\n",
      "    control on the appearance. Line properties and *fmt* can be mixed.\n",
      "    The following two calls yield identical results:\n",
      "    \n",
      "    >>> plot(x, y, 'go--', linewidth=2, markersize=12)\n",
      "    >>> plot(x, y, color='green', marker='o', linestyle='dashed',\n",
      "    ...      linewidth=2, markersize=12)\n",
      "    \n",
      "    When conflicting with *fmt*, keyword arguments take precedence.\n",
      "    \n",
      "    \n",
      "    **Plotting labelled data**\n",
      "    \n",
      "    There's a convenient way for plotting objects with labelled data (i.e.\n",
      "    data that can be accessed by index ``obj['y']``). Instead of giving\n",
      "    the data in *x* and *y*, you can provide the object in the *data*\n",
      "    parameter and just give the labels for *x* and *y*::\n",
      "    \n",
      "    >>> plot('xlabel', 'ylabel', data=obj)\n",
      "    \n",
      "    All indexable objects are supported. This could e.g. be a `dict`, a\n",
      "    `pandas.DataFrame` or a structured numpy array.\n",
      "    \n",
      "    \n",
      "    **Plotting multiple sets of data**\n",
      "    \n",
      "    There are various ways to plot multiple sets of data.\n",
      "    \n",
      "    - The most straight forward way is just to call `plot` multiple times.\n",
      "      Example:\n",
      "    \n",
      "      >>> plot(x1, y1, 'bo')\n",
      "      >>> plot(x2, y2, 'go')\n",
      "    \n",
      "    - If *x* and/or *y* are 2D arrays a separate data set will be drawn\n",
      "      for every column. If both *x* and *y* are 2D, they must have the\n",
      "      same shape. If only one of them is 2D with shape (N, m) the other\n",
      "      must have length N and will be used for every data set m.\n",
      "    \n",
      "      Example:\n",
      "    \n",
      "      >>> x = [1, 2, 3]\n",
      "      >>> y = np.array([[1, 2], [3, 4], [5, 6]])\n",
      "      >>> plot(x, y)\n",
      "    \n",
      "      is equivalent to:\n",
      "    \n",
      "      >>> for col in range(y.shape[1]):\n",
      "      ...     plot(x, y[:, col])\n",
      "    \n",
      "    - The third way is to specify multiple sets of *[x]*, *y*, *[fmt]*\n",
      "      groups::\n",
      "    \n",
      "      >>> plot(x1, y1, 'g^', x2, y2, 'g-')\n",
      "    \n",
      "      In this case, any additional keyword argument applies to all\n",
      "      datasets. Also this syntax cannot be combined with the *data*\n",
      "      parameter.\n",
      "    \n",
      "    By default, each line is assigned a different style specified by a\n",
      "    'style cycle'. The *fmt* and line property parameters are only\n",
      "    necessary if you want explicit deviations from these defaults.\n",
      "    Alternatively, you can also change the style cycle using\n",
      "    :rc:`axes.prop_cycle`.\n",
      "    \n",
      "    \n",
      "    Parameters\n",
      "    ----------\n",
      "    x, y : array-like or scalar\n",
      "        The horizontal / vertical coordinates of the data points.\n",
      "        *x* values are optional and default to ``range(len(y))``.\n",
      "    \n",
      "        Commonly, these parameters are 1D arrays.\n",
      "    \n",
      "        They can also be scalars, or two-dimensional (in that case, the\n",
      "        columns represent separate data sets).\n",
      "    \n",
      "        These arguments cannot be passed as keywords.\n",
      "    \n",
      "    fmt : str, optional\n",
      "        A format string, e.g. 'ro' for red circles. See the *Notes*\n",
      "        section for a full description of the format strings.\n",
      "    \n",
      "        Format strings are just an abbreviation for quickly setting\n",
      "        basic line properties. All of these and more can also be\n",
      "        controlled by keyword arguments.\n",
      "    \n",
      "        This argument cannot be passed as keyword.\n",
      "    \n",
      "    data : indexable object, optional\n",
      "        An object with labelled data. If given, provide the label names to\n",
      "        plot in *x* and *y*.\n",
      "    \n",
      "        .. note::\n",
      "            Technically there's a slight ambiguity in calls where the\n",
      "            second label is a valid *fmt*. ``plot('n', 'o', data=obj)``\n",
      "            could be ``plt(x, y)`` or ``plt(y, fmt)``. In such cases,\n",
      "            the former interpretation is chosen, but a warning is issued.\n",
      "            You may suppress the warning by adding an empty format string\n",
      "            ``plot('n', 'o', '', data=obj)``.\n",
      "    \n",
      "    Returns\n",
      "    -------\n",
      "    list of `.Line2D`\n",
      "        A list of lines representing the plotted data.\n",
      "    \n",
      "    Other Parameters\n",
      "    ----------------\n",
      "    scalex, scaley : bool, default: True\n",
      "        These parameters determine if the view limits are adapted to the\n",
      "        data limits. The values are passed on to `autoscale_view`.\n",
      "    \n",
      "    **kwargs : `.Line2D` properties, optional\n",
      "        *kwargs* are used to specify properties like a line label (for\n",
      "        auto legends), linewidth, antialiasing, marker face color.\n",
      "        Example::\n",
      "    \n",
      "        >>> plot([1, 2, 3], [1, 2, 3], 'go-', label='line 1', linewidth=2)\n",
      "        >>> plot([1, 2, 3], [1, 4, 9], 'rs', label='line 2')\n",
      "    \n",
      "        If you specify multiple lines with one plot call, the kwargs apply\n",
      "        to all those lines. In case the label object is iterable, each\n",
      "        element is used as labels for each set of data.\n",
      "    \n",
      "        Here is a list of available `.Line2D` properties:\n",
      "    \n",
      "        Properties:\n",
      "        agg_filter: a filter function, which takes a (m, n, 3) float array and a dpi value, and returns a (m, n, 3) array\n",
      "        alpha: scalar or None\n",
      "        animated: bool\n",
      "        antialiased or aa: bool\n",
      "        clip_box: `.Bbox`\n",
      "        clip_on: bool\n",
      "        clip_path: Patch or (Path, Transform) or None\n",
      "        color or c: color\n",
      "        dash_capstyle: `.CapStyle` or {'butt', 'projecting', 'round'}\n",
      "        dash_joinstyle: `.JoinStyle` or {'miter', 'round', 'bevel'}\n",
      "        dashes: sequence of floats (on/off ink in points) or (None, None)\n",
      "        data: (2, N) array or two 1D arrays\n",
      "        drawstyle or ds: {'default', 'steps', 'steps-pre', 'steps-mid', 'steps-post'}, default: 'default'\n",
      "        figure: `.Figure`\n",
      "        fillstyle: {'full', 'left', 'right', 'bottom', 'top', 'none'}\n",
      "        gid: str\n",
      "        in_layout: bool\n",
      "        label: object\n",
      "        linestyle or ls: {'-', '--', '-.', ':', '', (offset, on-off-seq), ...}\n",
      "        linewidth or lw: float\n",
      "        marker: marker style string, `~.path.Path` or `~.markers.MarkerStyle`\n",
      "        markeredgecolor or mec: color\n",
      "        markeredgewidth or mew: float\n",
      "        markerfacecolor or mfc: color\n",
      "        markerfacecoloralt or mfcalt: color\n",
      "        markersize or ms: float\n",
      "        markevery: None or int or (int, int) or slice or list[int] or float or (float, float) or list[bool]\n",
      "        path_effects: `.AbstractPathEffect`\n",
      "        picker: float or callable[[Artist, Event], tuple[bool, dict]]\n",
      "        pickradius: float\n",
      "        rasterized: bool\n",
      "        sketch_params: (scale: float, length: float, randomness: float)\n",
      "        snap: bool or None\n",
      "        solid_capstyle: `.CapStyle` or {'butt', 'projecting', 'round'}\n",
      "        solid_joinstyle: `.JoinStyle` or {'miter', 'round', 'bevel'}\n",
      "        transform: unknown\n",
      "        url: str\n",
      "        visible: bool\n",
      "        xdata: 1D array\n",
      "        ydata: 1D array\n",
      "        zorder: float\n",
      "    \n",
      "    See Also\n",
      "    --------\n",
      "    scatter : XY scatter plot with markers of varying size and/or color (\n",
      "        sometimes also called bubble chart).\n",
      "    \n",
      "    Notes\n",
      "    -----\n",
      "    **Format Strings**\n",
      "    \n",
      "    A format string consists of a part for color, marker and line::\n",
      "    \n",
      "        fmt = '[marker][line][color]'\n",
      "    \n",
      "    Each of them is optional. If not provided, the value from the style\n",
      "    cycle is used. Exception: If ``line`` is given, but no ``marker``,\n",
      "    the data will be a line without markers.\n",
      "    \n",
      "    Other combinations such as ``[color][marker][line]`` are also\n",
      "    supported, but note that their parsing may be ambiguous.\n",
      "    \n",
      "    **Markers**\n",
      "    \n",
      "    =============   ===============================\n",
      "    character       description\n",
      "    =============   ===============================\n",
      "    ``'.'``         point marker\n",
      "    ``','``         pixel marker\n",
      "    ``'o'``         circle marker\n",
      "    ``'v'``         triangle_down marker\n",
      "    ``'^'``         triangle_up marker\n",
      "    ``'<'``         triangle_left marker\n",
      "    ``'>'``         triangle_right marker\n",
      "    ``'1'``         tri_down marker\n",
      "    ``'2'``         tri_up marker\n",
      "    ``'3'``         tri_left marker\n",
      "    ``'4'``         tri_right marker\n",
      "    ``'8'``         octagon marker\n",
      "    ``'s'``         square marker\n",
      "    ``'p'``         pentagon marker\n",
      "    ``'P'``         plus (filled) marker\n",
      "    ``'*'``         star marker\n",
      "    ``'h'``         hexagon1 marker\n",
      "    ``'H'``         hexagon2 marker\n",
      "    ``'+'``         plus marker\n",
      "    ``'x'``         x marker\n",
      "    ``'X'``         x (filled) marker\n",
      "    ``'D'``         diamond marker\n",
      "    ``'d'``         thin_diamond marker\n",
      "    ``'|'``         vline marker\n",
      "    ``'_'``         hline marker\n",
      "    =============   ===============================\n",
      "    \n",
      "    **Line Styles**\n",
      "    \n",
      "    =============    ===============================\n",
      "    character        description\n",
      "    =============    ===============================\n",
      "    ``'-'``          solid line style\n",
      "    ``'--'``         dashed line style\n",
      "    ``'-.'``         dash-dot line style\n",
      "    ``':'``          dotted line style\n",
      "    =============    ===============================\n",
      "    \n",
      "    Example format strings::\n",
      "    \n",
      "        'b'    # blue markers with default shape\n",
      "        'or'   # red circles\n",
      "        '-g'   # green solid line\n",
      "        '--'   # dashed line with default color\n",
      "        '^k:'  # black triangle_up markers connected by a dotted line\n",
      "    \n",
      "    **Colors**\n",
      "    \n",
      "    The supported color abbreviations are the single letter codes\n",
      "    \n",
      "    =============    ===============================\n",
      "    character        color\n",
      "    =============    ===============================\n",
      "    ``'b'``          blue\n",
      "    ``'g'``          green\n",
      "    ``'r'``          red\n",
      "    ``'c'``          cyan\n",
      "    ``'m'``          magenta\n",
      "    ``'y'``          yellow\n",
      "    ``'k'``          black\n",
      "    ``'w'``          white\n",
      "    =============    ===============================\n",
      "    \n",
      "    and the ``'CN'`` colors that index into the default property cycle.\n",
      "    \n",
      "    If the color is the only part of the format string, you can\n",
      "    additionally use any  `matplotlib.colors` spec, e.g. full names\n",
      "    (``'green'``) or hex strings (``'#008000'``).\n",
      "\n"
     ]
    }
   ],
   "source": [
    "# help de la función plt.plot()\n",
    "help(plt.plot)"
   ]
  },
  {
   "cell_type": "markdown",
   "metadata": {},
   "source": [
    "Entonces, para graficar las funciones seno y coseno, necesitamos generar un vector de abscisas (x), y otro vector de ordenadas (y).\n",
    "\n",
    "Acá es donde el papel de NumPy se vuelve relevante..."
   ]
  },
  {
   "cell_type": "code",
   "execution_count": 5,
   "metadata": {},
   "outputs": [
    {
     "data": {
      "text/plain": [
       "array([2, 3, 4])"
      ]
     },
     "execution_count": 5,
     "metadata": {},
     "output_type": "execute_result"
    }
   ],
   "source": [
    "# Importar numpy\n",
    "# np.arange\n",
    "np.arange(2,5)"
   ]
  },
  {
   "cell_type": "code",
   "execution_count": 6,
   "metadata": {
    "scrolled": true
   },
   "outputs": [
    {
     "name": "stdout",
     "output_type": "stream",
     "text": [
      "Help on function linspace in module numpy:\n",
      "\n",
      "linspace(start, stop, num=50, endpoint=True, retstep=False, dtype=None, axis=0)\n",
      "    Return evenly spaced numbers over a specified interval.\n",
      "    \n",
      "    Returns `num` evenly spaced samples, calculated over the\n",
      "    interval [`start`, `stop`].\n",
      "    \n",
      "    The endpoint of the interval can optionally be excluded.\n",
      "    \n",
      "    .. versionchanged:: 1.16.0\n",
      "        Non-scalar `start` and `stop` are now supported.\n",
      "    \n",
      "    .. versionchanged:: 1.20.0\n",
      "        Values are rounded towards ``-inf`` instead of ``0`` when an\n",
      "        integer ``dtype`` is specified. The old behavior can\n",
      "        still be obtained with ``np.linspace(start, stop, num).astype(int)``\n",
      "    \n",
      "    Parameters\n",
      "    ----------\n",
      "    start : array_like\n",
      "        The starting value of the sequence.\n",
      "    stop : array_like\n",
      "        The end value of the sequence, unless `endpoint` is set to False.\n",
      "        In that case, the sequence consists of all but the last of ``num + 1``\n",
      "        evenly spaced samples, so that `stop` is excluded.  Note that the step\n",
      "        size changes when `endpoint` is False.\n",
      "    num : int, optional\n",
      "        Number of samples to generate. Default is 50. Must be non-negative.\n",
      "    endpoint : bool, optional\n",
      "        If True, `stop` is the last sample. Otherwise, it is not included.\n",
      "        Default is True.\n",
      "    retstep : bool, optional\n",
      "        If True, return (`samples`, `step`), where `step` is the spacing\n",
      "        between samples.\n",
      "    dtype : dtype, optional\n",
      "        The type of the output array.  If `dtype` is not given, the data type\n",
      "        is inferred from `start` and `stop`. The inferred dtype will never be\n",
      "        an integer; `float` is chosen even if the arguments would produce an\n",
      "        array of integers.\n",
      "    \n",
      "        .. versionadded:: 1.9.0\n",
      "    \n",
      "    axis : int, optional\n",
      "        The axis in the result to store the samples.  Relevant only if start\n",
      "        or stop are array-like.  By default (0), the samples will be along a\n",
      "        new axis inserted at the beginning. Use -1 to get an axis at the end.\n",
      "    \n",
      "        .. versionadded:: 1.16.0\n",
      "    \n",
      "    Returns\n",
      "    -------\n",
      "    samples : ndarray\n",
      "        There are `num` equally spaced samples in the closed interval\n",
      "        ``[start, stop]`` or the half-open interval ``[start, stop)``\n",
      "        (depending on whether `endpoint` is True or False).\n",
      "    step : float, optional\n",
      "        Only returned if `retstep` is True\n",
      "    \n",
      "        Size of spacing between samples.\n",
      "    \n",
      "    \n",
      "    See Also\n",
      "    --------\n",
      "    arange : Similar to `linspace`, but uses a step size (instead of the\n",
      "             number of samples).\n",
      "    geomspace : Similar to `linspace`, but with numbers spaced evenly on a log\n",
      "                scale (a geometric progression).\n",
      "    logspace : Similar to `geomspace`, but with the end points specified as\n",
      "               logarithms.\n",
      "    \n",
      "    Examples\n",
      "    --------\n",
      "    >>> np.linspace(2.0, 3.0, num=5)\n",
      "    array([2.  , 2.25, 2.5 , 2.75, 3.  ])\n",
      "    >>> np.linspace(2.0, 3.0, num=5, endpoint=False)\n",
      "    array([2. ,  2.2,  2.4,  2.6,  2.8])\n",
      "    >>> np.linspace(2.0, 3.0, num=5, retstep=True)\n",
      "    (array([2.  ,  2.25,  2.5 ,  2.75,  3.  ]), 0.25)\n",
      "    \n",
      "    Graphical illustration:\n",
      "    \n",
      "    >>> import matplotlib.pyplot as plt\n",
      "    >>> N = 8\n",
      "    >>> y = np.zeros(N)\n",
      "    >>> x1 = np.linspace(0, 10, N, endpoint=True)\n",
      "    >>> x2 = np.linspace(0, 10, N, endpoint=False)\n",
      "    >>> plt.plot(x1, y, 'o')\n",
      "    [<matplotlib.lines.Line2D object at 0x...>]\n",
      "    >>> plt.plot(x2, y + 0.5, 'o')\n",
      "    [<matplotlib.lines.Line2D object at 0x...>]\n",
      "    >>> plt.ylim([-0.5, 1])\n",
      "    (-0.5, 1)\n",
      "    >>> plt.show()\n",
      "\n"
     ]
    }
   ],
   "source": [
    "# help de la función np.linspace\n",
    "help(np.linspace)"
   ]
  },
  {
   "cell_type": "code",
   "execution_count": 8,
   "metadata": {},
   "outputs": [
    {
     "data": {
      "text/plain": [
       "array([ 0.        ,  1.11111111,  2.22222222,  3.33333333,  4.44444444,\n",
       "        5.55555556,  6.66666667,  7.77777778,  8.88888889, 10.        ])"
      ]
     },
     "execution_count": 8,
     "metadata": {},
     "output_type": "execute_result"
    }
   ],
   "source": [
    "np.linspace(0,10,num=10)"
   ]
  },
  {
   "cell_type": "markdown",
   "metadata": {},
   "source": [
    "Con lo anterior:"
   ]
  },
  {
   "cell_type": "code",
   "execution_count": 9,
   "metadata": {},
   "outputs": [],
   "source": [
    "# Crear un vector x que vaya desde 0 hasta 10\n",
    "x = np.linspace(0,10,num=100)\n",
    "# 0 - 10, 10/100"
   ]
  },
  {
   "cell_type": "code",
   "execution_count": 16,
   "metadata": {},
   "outputs": [
    {
     "data": {
      "text/plain": [
       "0.10101010101010101"
      ]
     },
     "execution_count": 16,
     "metadata": {},
     "output_type": "execute_result"
    }
   ],
   "source": [
    "x[2]-x[1]"
   ]
  },
  {
   "cell_type": "code",
   "execution_count": 12,
   "metadata": {},
   "outputs": [
    {
     "data": {
      "text/plain": [
       "0.1"
      ]
     },
     "execution_count": 12,
     "metadata": {},
     "output_type": "execute_result"
    }
   ],
   "source": [
    "10/100"
   ]
  },
  {
   "cell_type": "code",
   "execution_count": 11,
   "metadata": {},
   "outputs": [
    {
     "data": {
      "text/plain": [
       "array([ 0.        ,  0.1010101 ,  0.2020202 ,  0.3030303 ,  0.4040404 ,\n",
       "        0.50505051,  0.60606061,  0.70707071,  0.80808081,  0.90909091,\n",
       "        1.01010101,  1.11111111,  1.21212121,  1.31313131,  1.41414141,\n",
       "        1.51515152,  1.61616162,  1.71717172,  1.81818182,  1.91919192,\n",
       "        2.02020202,  2.12121212,  2.22222222,  2.32323232,  2.42424242,\n",
       "        2.52525253,  2.62626263,  2.72727273,  2.82828283,  2.92929293,\n",
       "        3.03030303,  3.13131313,  3.23232323,  3.33333333,  3.43434343,\n",
       "        3.53535354,  3.63636364,  3.73737374,  3.83838384,  3.93939394,\n",
       "        4.04040404,  4.14141414,  4.24242424,  4.34343434,  4.44444444,\n",
       "        4.54545455,  4.64646465,  4.74747475,  4.84848485,  4.94949495,\n",
       "        5.05050505,  5.15151515,  5.25252525,  5.35353535,  5.45454545,\n",
       "        5.55555556,  5.65656566,  5.75757576,  5.85858586,  5.95959596,\n",
       "        6.06060606,  6.16161616,  6.26262626,  6.36363636,  6.46464646,\n",
       "        6.56565657,  6.66666667,  6.76767677,  6.86868687,  6.96969697,\n",
       "        7.07070707,  7.17171717,  7.27272727,  7.37373737,  7.47474747,\n",
       "        7.57575758,  7.67676768,  7.77777778,  7.87878788,  7.97979798,\n",
       "        8.08080808,  8.18181818,  8.28282828,  8.38383838,  8.48484848,\n",
       "        8.58585859,  8.68686869,  8.78787879,  8.88888889,  8.98989899,\n",
       "        9.09090909,  9.19191919,  9.29292929,  9.39393939,  9.49494949,\n",
       "        9.5959596 ,  9.6969697 ,  9.7979798 ,  9.8989899 , 10.        ])"
      ]
     },
     "execution_count": 11,
     "metadata": {},
     "output_type": "execute_result"
    }
   ],
   "source": [
    "x"
   ]
  },
  {
   "cell_type": "code",
   "execution_count": 13,
   "metadata": {},
   "outputs": [
    {
     "data": {
      "text/plain": [
       "array([0.        , 0.55555556, 1.11111111, 1.66666667, 2.22222222,\n",
       "       2.77777778, 3.33333333, 3.88888889, 4.44444444, 5.        ])"
      ]
     },
     "execution_count": 13,
     "metadata": {},
     "output_type": "execute_result"
    }
   ],
   "source": [
    "np.linspace(0,5,num=10)"
   ]
  },
  {
   "cell_type": "code",
   "execution_count": 10,
   "metadata": {},
   "outputs": [
    {
     "data": {
      "text/plain": [
       "(100,)"
      ]
     },
     "execution_count": 10,
     "metadata": {},
     "output_type": "execute_result"
    }
   ],
   "source": [
    "x.shape"
   ]
  },
  {
   "cell_type": "code",
   "execution_count": 19,
   "metadata": {},
   "outputs": [
    {
     "data": {
      "text/plain": [
       "((100,), (100,))"
      ]
     },
     "execution_count": 19,
     "metadata": {},
     "output_type": "execute_result"
    }
   ],
   "source": [
    "# Evaluar las funciones sin y cos\n",
    "y = np.sin(x)\n",
    "y.shape, x.shape"
   ]
  },
  {
   "cell_type": "code",
   "execution_count": 20,
   "metadata": {},
   "outputs": [],
   "source": [
    "y1 = np.sin(x)\n",
    "y2 = np.cos(x)\n"
   ]
  },
  {
   "cell_type": "code",
   "execution_count": 21,
   "metadata": {},
   "outputs": [
    {
     "data": {
      "image/png": "[encoded data removed]",
      "text/plain": [
       "<Figure size 432x288 with 1 Axes>"
      ]
     },
     "metadata": {
      "needs_background": "light"
     },
     "output_type": "display_data"
    }
   ],
   "source": [
    "# Graficar en un mismo gráfico\n",
    "plt.figure(figsize=(6,4))\n",
    "plt.plot(x,y1)\n",
    "plt.plot(x,y2)\n",
    "plt.show()"
   ]
  },
  {
   "cell_type": "markdown",
   "metadata": {},
   "source": [
    "¿Qué opciones son útiles?"
   ]
  },
  {
   "cell_type": "code",
   "execution_count": 22,
   "metadata": {},
   "outputs": [
    {
     "data": {
      "image/png": "[encoded data removed]",
      "text/plain": [
       "<Figure size 432x288 with 1 Axes>"
      ]
     },
     "metadata": {
      "needs_background": "light"
     },
     "output_type": "display_data"
    }
   ],
   "source": [
    "# plt.xlabel, plt.ylabel\n",
    "plt.figure(figsize=(6,4))\n",
    "plt.plot(x,y1)\n",
    "plt.plot(x,y2)\n",
    "plt.xlabel('$x$')\n",
    "plt.ylabel('$y$')\n",
    "plt.show()"
   ]
  },
  {
   "cell_type": "markdown",
   "metadata": {},
   "source": [
    "lasnfaf asjkna\n",
    "x = a*x\n",
    "\n",
    "$$ \\dot{x} = a*x $$"
   ]
  },
  {
   "cell_type": "code",
   "execution_count": 25,
   "metadata": {},
   "outputs": [
    {
     "name": "stdout",
     "output_type": "stream",
     "text": [
      "Help on function legend in module matplotlib.pyplot:\n",
      "\n",
      "legend(*args, **kwargs)\n",
      "    Place a legend on the Axes.\n",
      "    \n",
      "    Call signatures::\n",
      "    \n",
      "        legend()\n",
      "        legend(handles, labels)\n",
      "        legend(handles=handles)\n",
      "        legend(labels)\n",
      "    \n",
      "    The call signatures correspond to the following different ways to use\n",
      "    this method:\n",
      "    \n",
      "    **1. Automatic detection of elements to be shown in the legend**\n",
      "    \n",
      "    The elements to be added to the legend are automatically determined,\n",
      "    when you do not pass in any extra arguments.\n",
      "    \n",
      "    In this case, the labels are taken from the artist. You can specify\n",
      "    them either at artist creation or by calling the\n",
      "    :meth:`~.Artist.set_label` method on the artist::\n",
      "    \n",
      "        ax.plot([1, 2, 3], label='Inline label')\n",
      "        ax.legend()\n",
      "    \n",
      "    or::\n",
      "    \n",
      "        line, = ax.plot([1, 2, 3])\n",
      "        line.set_label('Label via method')\n",
      "        ax.legend()\n",
      "    \n",
      "    Specific lines can be excluded from the automatic legend element\n",
      "    selection by defining a label starting with an underscore.\n",
      "    This is default for all artists, so calling `.Axes.legend` without\n",
      "    any arguments and without setting the labels manually will result in\n",
      "    no legend being drawn.\n",
      "    \n",
      "    \n",
      "    **2. Explicitly listing the artists and labels in the legend**\n",
      "    \n",
      "    For full control of which artists have a legend entry, it is possible\n",
      "    to pass an iterable of legend artists followed by an iterable of\n",
      "    legend labels respectively::\n",
      "    \n",
      "        ax.legend([line1, line2, line3], ['label1', 'label2', 'label3'])\n",
      "    \n",
      "    \n",
      "    **3. Explicitly listing the artists in the legend**\n",
      "    \n",
      "    This is similar to 2, but the labels are taken from the artists'\n",
      "    label properties. Example::\n",
      "    \n",
      "        line1, = ax.plot([1, 2, 3], label='label1')\n",
      "        line2, = ax.plot([1, 2, 3], label='label2')\n",
      "        ax.legend(handles=[line1, line2])\n",
      "    \n",
      "    \n",
      "    **4. Labeling existing plot elements**\n",
      "    \n",
      "    .. admonition:: Discouraged\n",
      "    \n",
      "        This call signature is discouraged, because the relation between\n",
      "        plot elements and labels is only implicit by their order and can\n",
      "        easily be mixed up.\n",
      "    \n",
      "    To make a legend for all artists on an Axes, call this function with\n",
      "    an iterable of strings, one for each legend item. For example::\n",
      "    \n",
      "        ax.plot([1, 2, 3])\n",
      "        ax.plot([5, 6, 7])\n",
      "        ax.legend(['First line', 'Second line'])\n",
      "    \n",
      "    \n",
      "    Parameters\n",
      "    ----------\n",
      "    handles : sequence of `.Artist`, optional\n",
      "        A list of Artists (lines, patches) to be added to the legend.\n",
      "        Use this together with *labels*, if you need full control on what\n",
      "        is shown in the legend and the automatic mechanism described above\n",
      "        is not sufficient.\n",
      "    \n",
      "        The length of handles and labels should be the same in this\n",
      "        case. If they are not, they are truncated to the smaller length.\n",
      "    \n",
      "    labels : list of str, optional\n",
      "        A list of labels to show next to the artists.\n",
      "        Use this together with *handles*, if you need full control on what\n",
      "        is shown in the legend and the automatic mechanism described above\n",
      "        is not sufficient.\n",
      "    \n",
      "    Returns\n",
      "    -------\n",
      "    `~matplotlib.legend.Legend`\n",
      "    \n",
      "    Other Parameters\n",
      "    ----------------\n",
      "    \n",
      "    loc : str or pair of floats, default: :rc:`legend.loc` ('best' for axes, 'upper right' for figures)\n",
      "        The location of the legend.\n",
      "    \n",
      "        The strings\n",
      "        ``'upper left', 'upper right', 'lower left', 'lower right'``\n",
      "        place the legend at the corresponding corner of the axes/figure.\n",
      "    \n",
      "        The strings\n",
      "        ``'upper center', 'lower center', 'center left', 'center right'``\n",
      "        place the legend at the center of the corresponding edge of the\n",
      "        axes/figure.\n",
      "    \n",
      "        The string ``'center'`` places the legend at the center of the axes/figure.\n",
      "    \n",
      "        The string ``'best'`` places the legend at the location, among the nine\n",
      "        locations defined so far, with the minimum overlap with other drawn\n",
      "        artists.  This option can be quite slow for plots with large amounts of\n",
      "        data; your plotting speed may benefit from providing a specific location.\n",
      "    \n",
      "        The location can also be a 2-tuple giving the coordinates of the lower-left\n",
      "        corner of the legend in axes coordinates (in which case *bbox_to_anchor*\n",
      "        will be ignored).\n",
      "    \n",
      "        For back-compatibility, ``'center right'`` (but no other location) can also\n",
      "        be spelled ``'right'``, and each \"string\" locations can also be given as a\n",
      "        numeric value:\n",
      "    \n",
      "            ===============   =============\n",
      "            Location String   Location Code\n",
      "            ===============   =============\n",
      "            'best'            0\n",
      "            'upper right'     1\n",
      "            'upper left'      2\n",
      "            'lower left'      3\n",
      "            'lower right'     4\n",
      "            'right'           5\n",
      "            'center left'     6\n",
      "            'center right'    7\n",
      "            'lower center'    8\n",
      "            'upper center'    9\n",
      "            'center'          10\n",
      "            ===============   =============\n",
      "    \n",
      "    bbox_to_anchor : `.BboxBase`, 2-tuple, or 4-tuple of floats\n",
      "        Box that is used to position the legend in conjunction with *loc*.\n",
      "        Defaults to `axes.bbox` (if called as a method to `.Axes.legend`) or\n",
      "        `figure.bbox` (if `.Figure.legend`).  This argument allows arbitrary\n",
      "        placement of the legend.\n",
      "    \n",
      "        Bbox coordinates are interpreted in the coordinate system given by\n",
      "        *bbox_transform*, with the default transform\n",
      "        Axes or Figure coordinates, depending on which ``legend`` is called.\n",
      "    \n",
      "        If a 4-tuple or `.BboxBase` is given, then it specifies the bbox\n",
      "        ``(x, y, width, height)`` that the legend is placed in.\n",
      "        To put the legend in the best location in the bottom right\n",
      "        quadrant of the axes (or figure)::\n",
      "    \n",
      "            loc='best', bbox_to_anchor=(0.5, 0., 0.5, 0.5)\n",
      "    \n",
      "        A 2-tuple ``(x, y)`` places the corner of the legend specified by *loc* at\n",
      "        x, y.  For example, to put the legend's upper right-hand corner in the\n",
      "        center of the axes (or figure) the following keywords can be used::\n",
      "    \n",
      "            loc='upper right', bbox_to_anchor=(0.5, 0.5)\n",
      "    \n",
      "    ncol : int, default: 1\n",
      "        The number of columns that the legend has.\n",
      "    \n",
      "    prop : None or `matplotlib.font_manager.FontProperties` or dict\n",
      "        The font properties of the legend. If None (default), the current\n",
      "        :data:`matplotlib.rcParams` will be used.\n",
      "    \n",
      "    fontsize : int or {'xx-small', 'x-small', 'small', 'medium', 'large', 'x-large', 'xx-large'}\n",
      "        The font size of the legend. If the value is numeric the size will be the\n",
      "        absolute font size in points. String values are relative to the current\n",
      "        default font size. This argument is only used if *prop* is not specified.\n",
      "    \n",
      "    labelcolor : str or list, default: :rc:`legend.labelcolor`\n",
      "        The color of the text in the legend. Either a valid color string\n",
      "        (for example, 'red'), or a list of color strings. The labelcolor can\n",
      "        also be made to match the color of the line or marker using 'linecolor',\n",
      "        'markerfacecolor' (or 'mfc'), or 'markeredgecolor' (or 'mec').\n",
      "    \n",
      "        Labelcolor can be set globally using :rc:`legend.labelcolor`. If None,\n",
      "        use :rc:`text.color`.\n",
      "    \n",
      "    numpoints : int, default: :rc:`legend.numpoints`\n",
      "        The number of marker points in the legend when creating a legend\n",
      "        entry for a `.Line2D` (line).\n",
      "    \n",
      "    scatterpoints : int, default: :rc:`legend.scatterpoints`\n",
      "        The number of marker points in the legend when creating\n",
      "        a legend entry for a `.PathCollection` (scatter plot).\n",
      "    \n",
      "    scatteryoffsets : iterable of floats, default: ``[0.375, 0.5, 0.3125]``\n",
      "        The vertical offset (relative to the font size) for the markers\n",
      "        created for a scatter plot legend entry. 0.0 is at the base the\n",
      "        legend text, and 1.0 is at the top. To draw all markers at the\n",
      "        same height, set to ``[0.5]``.\n",
      "    \n",
      "    markerscale : float, default: :rc:`legend.markerscale`\n",
      "        The relative size of legend markers compared with the originally\n",
      "        drawn ones.\n",
      "    \n",
      "    markerfirst : bool, default: True\n",
      "        If *True*, legend marker is placed to the left of the legend label.\n",
      "        If *False*, legend marker is placed to the right of the legend label.\n",
      "    \n",
      "    frameon : bool, default: :rc:`legend.frameon`\n",
      "        Whether the legend should be drawn on a patch (frame).\n",
      "    \n",
      "    fancybox : bool, default: :rc:`legend.fancybox`\n",
      "        Whether round edges should be enabled around the `.FancyBboxPatch` which\n",
      "        makes up the legend's background.\n",
      "    \n",
      "    shadow : bool, default: :rc:`legend.shadow`\n",
      "        Whether to draw a shadow behind the legend.\n",
      "    \n",
      "    framealpha : float, default: :rc:`legend.framealpha`\n",
      "        The alpha transparency of the legend's background.\n",
      "        If *shadow* is activated and *framealpha* is ``None``, the default value is\n",
      "        ignored.\n",
      "    \n",
      "    facecolor : \"inherit\" or color, default: :rc:`legend.facecolor`\n",
      "        The legend's background color.\n",
      "        If ``\"inherit\"``, use :rc:`axes.facecolor`.\n",
      "    \n",
      "    edgecolor : \"inherit\" or color, default: :rc:`legend.edgecolor`\n",
      "        The legend's background patch edge color.\n",
      "        If ``\"inherit\"``, use take :rc:`axes.edgecolor`.\n",
      "    \n",
      "    mode : {\"expand\", None}\n",
      "        If *mode* is set to ``\"expand\"`` the legend will be horizontally\n",
      "        expanded to fill the axes area (or *bbox_to_anchor* if defines\n",
      "        the legend's size).\n",
      "    \n",
      "    bbox_transform : None or `matplotlib.transforms.Transform`\n",
      "        The transform for the bounding box (*bbox_to_anchor*). For a value\n",
      "        of ``None`` (default) the Axes'\n",
      "        :data:`~matplotlib.axes.Axes.transAxes` transform will be used.\n",
      "    \n",
      "    title : str or None\n",
      "        The legend's title. Default is no title (``None``).\n",
      "    \n",
      "    title_fontproperties : None or `matplotlib.font_manager.FontProperties` or dict\n",
      "        The font properties of the legend's title. If None (default), the\n",
      "        *title_fontsize* argument will be used if present; if *title_fontsize* is\n",
      "        also None, the current :rc:`legend.title_fontsize` will be used.\n",
      "    \n",
      "    title_fontsize : int or {'xx-small', 'x-small', 'small', 'medium', 'large', 'x-large', 'xx-large'}, default: :rc:`legend.title_fontsize`\n",
      "        The font size of the legend's title.\n",
      "        Note: This cannot be combined with *title_fontproperties*. If you want\n",
      "        to set the fontsize alongside other font properties, use the *size*\n",
      "        parameter in *title_fontproperties*.\n",
      "    \n",
      "    borderpad : float, default: :rc:`legend.borderpad`\n",
      "        The fractional whitespace inside the legend border, in font-size units.\n",
      "    \n",
      "    labelspacing : float, default: :rc:`legend.labelspacing`\n",
      "        The vertical space between the legend entries, in font-size units.\n",
      "    \n",
      "    handlelength : float, default: :rc:`legend.handlelength`\n",
      "        The length of the legend handles, in font-size units.\n",
      "    \n",
      "    handleheight : float, default: :rc:`legend.handleheight`\n",
      "        The height of the legend handles, in font-size units.\n",
      "    \n",
      "    handletextpad : float, default: :rc:`legend.handletextpad`\n",
      "        The pad between the legend handle and text, in font-size units.\n",
      "    \n",
      "    borderaxespad : float, default: :rc:`legend.borderaxespad`\n",
      "        The pad between the axes and legend border, in font-size units.\n",
      "    \n",
      "    columnspacing : float, default: :rc:`legend.columnspacing`\n",
      "        The spacing between columns, in font-size units.\n",
      "    \n",
      "    handler_map : dict or None\n",
      "        The custom dictionary mapping instances or types to a legend\n",
      "        handler. This *handler_map* updates the default handler map\n",
      "        found at `matplotlib.legend.Legend.get_legend_handler_map`.\n",
      "    \n",
      "    \n",
      "    See Also\n",
      "    --------\n",
      "    .Figure.legend\n",
      "    \n",
      "    Notes\n",
      "    -----\n",
      "    Some artists are not supported by this function.  See\n",
      "    :doc:`/tutorials/intermediate/legend_guide` for details.\n",
      "    \n",
      "    Examples\n",
      "    --------\n",
      "    .. plot:: gallery/text_labels_and_annotations/legend.py\n",
      "\n"
     ]
    }
   ],
   "source": [
    "help(plt.legend)"
   ]
  },
  {
   "cell_type": "code",
   "execution_count": 29,
   "metadata": {},
   "outputs": [
    {
     "data": {
      "image/png": "[encoded data removed]",
      "text/plain": [
       "<Figure size 432x288 with 1 Axes>"
      ]
     },
     "metadata": {
      "needs_background": "light"
     },
     "output_type": "display_data"
    }
   ],
   "source": [
    "# plt.legend\n",
    "plt.figure(figsize=(6,4))\n",
    "plt.plot(x,y1, label='$\\sin(x)$')\n",
    "plt.plot(x,y2, label='$\\cos(x)$')\n",
    "plt.xlabel('$x$')\n",
    "plt.ylabel('$y$')\n",
    "plt.legend(loc = 'upper left')\n",
    "plt.show()"
   ]
  },
  {
   "cell_type": "code",
   "execution_count": 31,
   "metadata": {},
   "outputs": [
    {
     "data": {
      "image/png": "[encoded data removed]",
      "text/plain": [
       "<Figure size 432x288 with 1 Axes>"
      ]
     },
     "metadata": {
      "needs_background": "light"
     },
     "output_type": "display_data"
    }
   ],
   "source": [
    "plt.figure(figsize=(6,4))\n",
    "plt.plot(x,y1, label='$\\sin(x)$')\n",
    "plt.plot(x,y2, label='$\\cos(x)$')\n",
    "plt.xlabel('$x$')\n",
    "plt.ylabel('$y$')\n",
    "plt.legend(loc = 'upper left', bbox_to_anchor = (1.05,1))\n",
    "plt.show()"
   ]
  },
  {
   "cell_type": "code",
   "execution_count": 32,
   "metadata": {},
   "outputs": [
    {
     "data": {
      "image/png": "[encoded data removed]",
      "text/plain": [
       "<Figure size 432x288 with 1 Axes>"
      ]
     },
     "metadata": {
      "needs_background": "light"
     },
     "output_type": "display_data"
    }
   ],
   "source": [
    "# plt.grid\n",
    "plt.figure(figsize=(6,4))\n",
    "plt.plot(x,y1, label='$\\sin(x)$')\n",
    "plt.plot(x,y2, label='$\\cos(x)$')\n",
    "plt.xlabel('$x$')\n",
    "plt.ylabel('$y$')\n",
    "plt.legend(loc = 'upper left', bbox_to_anchor = (1.05,1))\n",
    "plt.grid()\n",
    "plt.show()"
   ]
  },
  {
   "cell_type": "code",
   "execution_count": 44,
   "metadata": {},
   "outputs": [
    {
     "name": "stdout",
     "output_type": "stream",
     "text": [
      "Help on function plot in module matplotlib.pyplot:\n",
      "\n",
      "plot(*args, scalex=True, scaley=True, data=None, **kwargs)\n",
      "    Plot y versus x as lines and/or markers.\n",
      "    \n",
      "    Call signatures::\n",
      "    \n",
      "        plot([x], y, [fmt], *, data=None, **kwargs)\n",
      "        plot([x], y, [fmt], [x2], y2, [fmt2], ..., **kwargs)\n",
      "    \n",
      "    The coordinates of the points or line nodes are given by *x*, *y*.\n",
      "    \n",
      "    The optional parameter *fmt* is a convenient way for defining basic\n",
      "    formatting like color, marker and linestyle. It's a shortcut string\n",
      "    notation described in the *Notes* section below.\n",
      "    \n",
      "    >>> plot(x, y)        # plot x and y using default line style and color\n",
      "    >>> plot(x, y, 'bo')  # plot x and y using blue circle markers\n",
      "    >>> plot(y)           # plot y using x as index array 0..N-1\n",
      "    >>> plot(y, 'r+')     # ditto, but with red plusses\n",
      "    \n",
      "    You can use `.Line2D` properties as keyword arguments for more\n",
      "    control on the appearance. Line properties and *fmt* can be mixed.\n",
      "    The following two calls yield identical results:\n",
      "    \n",
      "    >>> plot(x, y, 'go--', linewidth=2, markersize=12)\n",
      "    >>> plot(x, y, color='green', marker='o', linestyle='dashed',\n",
      "    ...      linewidth=2, markersize=12)\n",
      "    \n",
      "    When conflicting with *fmt*, keyword arguments take precedence.\n",
      "    \n",
      "    \n",
      "    **Plotting labelled data**\n",
      "    \n",
      "    There's a convenient way for plotting objects with labelled data (i.e.\n",
      "    data that can be accessed by index ``obj['y']``). Instead of giving\n",
      "    the data in *x* and *y*, you can provide the object in the *data*\n",
      "    parameter and just give the labels for *x* and *y*::\n",
      "    \n",
      "    >>> plot('xlabel', 'ylabel', data=obj)\n",
      "    \n",
      "    All indexable objects are supported. This could e.g. be a `dict`, a\n",
      "    `pandas.DataFrame` or a structured numpy array.\n",
      "    \n",
      "    \n",
      "    **Plotting multiple sets of data**\n",
      "    \n",
      "    There are various ways to plot multiple sets of data.\n",
      "    \n",
      "    - The most straight forward way is just to call `plot` multiple times.\n",
      "      Example:\n",
      "    \n",
      "      >>> plot(x1, y1, 'bo')\n",
      "      >>> plot(x2, y2, 'go')\n",
      "    \n",
      "    - If *x* and/or *y* are 2D arrays a separate data set will be drawn\n",
      "      for every column. If both *x* and *y* are 2D, they must have the\n",
      "      same shape. If only one of them is 2D with shape (N, m) the other\n",
      "      must have length N and will be used for every data set m.\n",
      "    \n",
      "      Example:\n",
      "    \n",
      "      >>> x = [1, 2, 3]\n",
      "      >>> y = np.array([[1, 2], [3, 4], [5, 6]])\n",
      "      >>> plot(x, y)\n",
      "    \n",
      "      is equivalent to:\n",
      "    \n",
      "      >>> for col in range(y.shape[1]):\n",
      "      ...     plot(x, y[:, col])\n",
      "    \n",
      "    - The third way is to specify multiple sets of *[x]*, *y*, *[fmt]*\n",
      "      groups::\n",
      "    \n",
      "      >>> plot(x1, y1, 'g^', x2, y2, 'g-')\n",
      "    \n",
      "      In this case, any additional keyword argument applies to all\n",
      "      datasets. Also this syntax cannot be combined with the *data*\n",
      "      parameter.\n",
      "    \n",
      "    By default, each line is assigned a different style specified by a\n",
      "    'style cycle'. The *fmt* and line property parameters are only\n",
      "    necessary if you want explicit deviations from these defaults.\n",
      "    Alternatively, you can also change the style cycle using\n",
      "    :rc:`axes.prop_cycle`.\n",
      "    \n",
      "    \n",
      "    Parameters\n",
      "    ----------\n",
      "    x, y : array-like or scalar\n",
      "        The horizontal / vertical coordinates of the data points.\n",
      "        *x* values are optional and default to ``range(len(y))``.\n",
      "    \n",
      "        Commonly, these parameters are 1D arrays.\n",
      "    \n",
      "        They can also be scalars, or two-dimensional (in that case, the\n",
      "        columns represent separate data sets).\n",
      "    \n",
      "        These arguments cannot be passed as keywords.\n",
      "    \n",
      "    fmt : str, optional\n",
      "        A format string, e.g. 'ro' for red circles. See the *Notes*\n",
      "        section for a full description of the format strings.\n",
      "    \n",
      "        Format strings are just an abbreviation for quickly setting\n",
      "        basic line properties. All of these and more can also be\n",
      "        controlled by keyword arguments.\n",
      "    \n",
      "        This argument cannot be passed as keyword.\n",
      "    \n",
      "    data : indexable object, optional\n",
      "        An object with labelled data. If given, provide the label names to\n",
      "        plot in *x* and *y*.\n",
      "    \n",
      "        .. note::\n",
      "            Technically there's a slight ambiguity in calls where the\n",
      "            second label is a valid *fmt*. ``plot('n', 'o', data=obj)``\n",
      "            could be ``plt(x, y)`` or ``plt(y, fmt)``. In such cases,\n",
      "            the former interpretation is chosen, but a warning is issued.\n",
      "            You may suppress the warning by adding an empty format string\n",
      "            ``plot('n', 'o', '', data=obj)``.\n",
      "    \n",
      "    Returns\n",
      "    -------\n",
      "    list of `.Line2D`\n",
      "        A list of lines representing the plotted data.\n",
      "    \n",
      "    Other Parameters\n",
      "    ----------------\n",
      "    scalex, scaley : bool, default: True\n",
      "        These parameters determine if the view limits are adapted to the\n",
      "        data limits. The values are passed on to `autoscale_view`.\n",
      "    \n",
      "    **kwargs : `.Line2D` properties, optional\n",
      "        *kwargs* are used to specify properties like a line label (for\n",
      "        auto legends), linewidth, antialiasing, marker face color.\n",
      "        Example::\n",
      "    \n",
      "        >>> plot([1, 2, 3], [1, 2, 3], 'go-', label='line 1', linewidth=2)\n",
      "        >>> plot([1, 2, 3], [1, 4, 9], 'rs', label='line 2')\n",
      "    \n",
      "        If you specify multiple lines with one plot call, the kwargs apply\n",
      "        to all those lines. In case the label object is iterable, each\n",
      "        element is used as labels for each set of data.\n",
      "    \n",
      "        Here is a list of available `.Line2D` properties:\n",
      "    \n",
      "        Properties:\n",
      "        agg_filter: a filter function, which takes a (m, n, 3) float array and a dpi value, and returns a (m, n, 3) array\n",
      "        alpha: scalar or None\n",
      "        animated: bool\n",
      "        antialiased or aa: bool\n",
      "        clip_box: `.Bbox`\n",
      "        clip_on: bool\n",
      "        clip_path: Patch or (Path, Transform) or None\n",
      "        color or c: color\n",
      "        dash_capstyle: `.CapStyle` or {'butt', 'projecting', 'round'}\n",
      "        dash_joinstyle: `.JoinStyle` or {'miter', 'round', 'bevel'}\n",
      "        dashes: sequence of floats (on/off ink in points) or (None, None)\n",
      "        data: (2, N) array or two 1D arrays\n",
      "        drawstyle or ds: {'default', 'steps', 'steps-pre', 'steps-mid', 'steps-post'}, default: 'default'\n",
      "        figure: `.Figure`\n",
      "        fillstyle: {'full', 'left', 'right', 'bottom', 'top', 'none'}\n",
      "        gid: str\n",
      "        in_layout: bool\n",
      "        label: object\n",
      "        linestyle or ls: {'-', '--', '-.', ':', '', (offset, on-off-seq), ...}\n",
      "        linewidth or lw: float\n",
      "        marker: marker style string, `~.path.Path` or `~.markers.MarkerStyle`\n",
      "        markeredgecolor or mec: color\n",
      "        markeredgewidth or mew: float\n",
      "        markerfacecolor or mfc: color\n",
      "        markerfacecoloralt or mfcalt: color\n",
      "        markersize or ms: float\n",
      "        markevery: None or int or (int, int) or slice or list[int] or float or (float, float) or list[bool]\n",
      "        path_effects: `.AbstractPathEffect`\n",
      "        picker: float or callable[[Artist, Event], tuple[bool, dict]]\n",
      "        pickradius: float\n",
      "        rasterized: bool\n",
      "        sketch_params: (scale: float, length: float, randomness: float)\n",
      "        snap: bool or None\n",
      "        solid_capstyle: `.CapStyle` or {'butt', 'projecting', 'round'}\n",
      "        solid_joinstyle: `.JoinStyle` or {'miter', 'round', 'bevel'}\n",
      "        transform: unknown\n",
      "        url: str\n",
      "        visible: bool\n",
      "        xdata: 1D array\n",
      "        ydata: 1D array\n",
      "        zorder: float\n",
      "    \n",
      "    See Also\n",
      "    --------\n",
      "    scatter : XY scatter plot with markers of varying size and/or color (\n",
      "        sometimes also called bubble chart).\n",
      "    \n",
      "    Notes\n",
      "    -----\n",
      "    **Format Strings**\n",
      "    \n",
      "    A format string consists of a part for color, marker and line::\n",
      "    \n",
      "        fmt = '[marker][line][color]'\n",
      "    \n",
      "    Each of them is optional. If not provided, the value from the style\n",
      "    cycle is used. Exception: If ``line`` is given, but no ``marker``,\n",
      "    the data will be a line without markers.\n",
      "    \n",
      "    Other combinations such as ``[color][marker][line]`` are also\n",
      "    supported, but note that their parsing may be ambiguous.\n",
      "    \n",
      "    **Markers**\n",
      "    \n",
      "    =============   ===============================\n",
      "    character       description\n",
      "    =============   ===============================\n",
      "    ``'.'``         point marker\n",
      "    ``','``         pixel marker\n",
      "    ``'o'``         circle marker\n",
      "    ``'v'``         triangle_down marker\n",
      "    ``'^'``         triangle_up marker\n",
      "    ``'<'``         triangle_left marker\n",
      "    ``'>'``         triangle_right marker\n",
      "    ``'1'``         tri_down marker\n",
      "    ``'2'``         tri_up marker\n",
      "    ``'3'``         tri_left marker\n",
      "    ``'4'``         tri_right marker\n",
      "    ``'8'``         octagon marker\n",
      "    ``'s'``         square marker\n",
      "    ``'p'``         pentagon marker\n",
      "    ``'P'``         plus (filled) marker\n",
      "    ``'*'``         star marker\n",
      "    ``'h'``         hexagon1 marker\n",
      "    ``'H'``         hexagon2 marker\n",
      "    ``'+'``         plus marker\n",
      "    ``'x'``         x marker\n",
      "    ``'X'``         x (filled) marker\n",
      "    ``'D'``         diamond marker\n",
      "    ``'d'``         thin_diamond marker\n",
      "    ``'|'``         vline marker\n",
      "    ``'_'``         hline marker\n",
      "    =============   ===============================\n",
      "    \n",
      "    **Line Styles**\n",
      "    \n",
      "    =============    ===============================\n",
      "    character        description\n",
      "    =============    ===============================\n",
      "    ``'-'``          solid line style\n",
      "    ``'--'``         dashed line style\n",
      "    ``'-.'``         dash-dot line style\n",
      "    ``':'``          dotted line style\n",
      "    =============    ===============================\n",
      "    \n",
      "    Example format strings::\n",
      "    \n",
      "        'b'    # blue markers with default shape\n",
      "        'or'   # red circles\n",
      "        '-g'   # green solid line\n",
      "        '--'   # dashed line with default color\n",
      "        '^k:'  # black triangle_up markers connected by a dotted line\n",
      "    \n",
      "    **Colors**\n",
      "    \n",
      "    The supported color abbreviations are the single letter codes\n",
      "    \n",
      "    =============    ===============================\n",
      "    character        color\n",
      "    =============    ===============================\n",
      "    ``'b'``          blue\n",
      "    ``'g'``          green\n",
      "    ``'r'``          red\n",
      "    ``'c'``          cyan\n",
      "    ``'m'``          magenta\n",
      "    ``'y'``          yellow\n",
      "    ``'k'``          black\n",
      "    ``'w'``          white\n",
      "    =============    ===============================\n",
      "    \n",
      "    and the ``'CN'`` colors that index into the default property cycle.\n",
      "    \n",
      "    If the color is the only part of the format string, you can\n",
      "    additionally use any  `matplotlib.colors` spec, e.g. full names\n",
      "    (``'green'``) or hex strings (``'#008000'``).\n",
      "\n"
     ]
    }
   ],
   "source": [
    "help(plt.plot)"
   ]
  },
  {
   "cell_type": "code",
   "execution_count": 45,
   "metadata": {},
   "outputs": [
    {
     "data": {
      "image/png": "[encoded data removed]",
      "text/plain": [
       "<Figure size 432x288 with 1 Axes>"
      ]
     },
     "metadata": {
      "needs_background": "light"
     },
     "output_type": "display_data"
    }
   ],
   "source": [
    "plt.figure(figsize=(6,4))\n",
    "plt.plot(x,y1, color = (0.5,0.5,0.8), lw=2, label='$\\sin(x)$')\n",
    "plt.plot(x,y2, \":r\", ms=2,  label='$\\cos(x)$')\n",
    "plt.xlabel('$x$')\n",
    "plt.ylabel('$y$')\n",
    "plt.legend(loc = 'upper left', bbox_to_anchor = (1.05,1))\n",
    "plt.grid()\n",
    "plt.show()"
   ]
  },
  {
   "cell_type": "code",
   "execution_count": null,
   "metadata": {},
   "outputs": [],
   "source": []
  },
  {
   "cell_type": "markdown",
   "metadata": {},
   "source": [
    "Muy bien todo lo anterior. Sin embargo, a veces puede ser útil tener gráficos alineados, pero separados.\n",
    "\n",
    "Graficar las funciones seno y coseno en dos gráficos separados pero alineados verticalmente:"
   ]
  },
  {
   "cell_type": "code",
   "execution_count": 51,
   "metadata": {},
   "outputs": [
    {
     "data": {
      "text/plain": [
       "Text(0.5, 1.0, 'Mi primera gráfica')"
      ]
     },
     "execution_count": 51,
     "metadata": {},
     "output_type": "execute_result"
    },
    {
     "data": {
      "image/png": "[encoded data removed]",
      "text/plain": [
       "<Figure size 576x432 with 4 Axes>"
      ]
     },
     "metadata": {
      "needs_background": "light"
     },
     "output_type": "display_data"
    }
   ],
   "source": [
    "plt.figure(figsize=(8,6))\n",
    "\n",
    "plt.subplot(4,1,1)\n",
    "plt.plot(x,y1, color=(0.8,0.3,0.5), lw=3, label='$\\sin(x)$')\n",
    "plt.xlabel('$x$')\n",
    "plt.ylabel('$y$')\n",
    "plt.grid()\n",
    "\n",
    "plt.subplot(4,1,2)\n",
    "plt.plot(x,y2, color=(0.5,0.3,0.5), lw=3, label='$\\cos(x)$')\n",
    "plt.xlabel('$x$')\n",
    "plt.ylabel('$y$')\n",
    "plt.grid()\n",
    "\n",
    "plt.subplot(4,1,3)\n",
    "plt.plot(x,y2, color=(0.5,0.3,0.5), lw=3, label='$\\cos(x)$')\n",
    "plt.xlabel('$x$')\n",
    "plt.ylabel('$y$')\n",
    "plt.grid()\n",
    "\n",
    "plt.subplot(4,1,4)\n",
    "plt.plot(x,y2, color=(0.5,0.3,0.5), lw=3, label='$\\cos(x)$')\n",
    "plt.xlabel('$x$')\n",
    "plt.ylabel('$y$')\n",
    "plt.grid()\n",
    "plt.title('Mi primera gráfica')\n"
   ]
  },
  {
   "cell_type": "code",
   "execution_count": 52,
   "metadata": {},
   "outputs": [
    {
     "data": {
      "image/png": "[encoded data removed]",
      "text/plain": [
       "<Figure size 432x288 with 1 Axes>"
      ]
     },
     "metadata": {
      "needs_background": "light"
     },
     "output_type": "display_data"
    }
   ],
   "source": [
    "plt.figure(figsize=(6,4))\n",
    "plt.plot(x,y1, color = (0.5,0.5,0.8), lw=2, label='$\\sin(x)$')\n",
    "plt.plot(x,y2, \":r\", ms=2,  label='$\\cos(x)$')\n",
    "plt.xlabel('$x$')\n",
    "plt.ylabel('$y$')\n",
    "plt.legend(loc = 'upper left', bbox_to_anchor = (1.05,1))\n",
    "plt.grid()\n",
    "plt.show()"
   ]
  },
  {
   "cell_type": "code",
   "execution_count": null,
   "metadata": {},
   "outputs": [],
   "source": []
  },
  {
   "cell_type": "markdown",
   "metadata": {},
   "source": [
    "___\n",
    "# 2. Distintos gráficos para datos"
   ]
  },
  {
   "cell_type": "markdown",
   "metadata": {},
   "source": [
    "## 2.1 Reglas básicas de visualización\n",
    "\n",
    "Antes de empezar a revisar distintos tipos de gráficos, veremos algunas reglas básicas. Estas reglas nos ayudarán a realizar gráficos chidos e informativos, en lugar de gráficos confusos:\n",
    "\n",
    "1. El primer paso es escoger el tipo de gráfico apropiado. Si te decantas por varias opciones, podrías tratar de compararlos y elegir el que mejor se adapte a lo que quieres mostrar."
   ]
  },
  {
   "cell_type": "markdown",
   "metadata": {},
   "source": [
    "2. Cuando elegimos nuestro tipo de gráfico, una de las cosas más importantes es etiquetar nuestro ejes. Si no lo hacemos, la gráfica no será suficientemente informativa. \n",
    "\n",
    " - Si no hay ejes, podemos intentar revisar el código para ver de dónde vienen los datos, y si contamos con suerte, entenderemos el gráfico. Pero, ¿y si solo tenemos la imagen y no el código?, o peor aún, ¿qué tal si le mostramos este gráfico a un cliente que no tiene ni idea de como realizar gráficos en Python?"
   ]
  },
  {
   "cell_type": "markdown",
   "metadata": {},
   "source": [
    "3. Podemos añadir un título para hacer nuestra gráfica más informativa (opcional)."
   ]
  },
  {
   "cell_type": "markdown",
   "metadata": {},
   "source": [
    "4. Añadir etiquetas para diferentes líneas cuando sea necesario."
   ]
  },
  {
   "cell_type": "markdown",
   "metadata": {},
   "source": [
    "5. Añadir texto o una flecha para indicar puntos relevantes en los datos."
   ]
  },
  {
   "cell_type": "markdown",
   "metadata": {},
   "source": [
    "6. Siempre es bueno usar la creatividad con los tamaños, tipos y colores para hacer los gráficos de los datos más entretenidos e informativos."
   ]
  },
  {
   "cell_type": "markdown",
   "metadata": {},
   "source": [
    "## 2.2 Tipos de visualizaciones y ejemplos con matplotlib\n",
    "\n",
    "Existen muchos tipos de visualizaciones y gráficos. Algunos de los más famosos de ellos son: gráfico de línea, gráfico de dispersión de puntos, histograma, diagrama de bigotes, gráfico de barras, y gráfico de pastel.\n",
    "\n",
    "¿Cuál de todas ellas elegimos para una visualización correcta? Primero, tenemos que hacer un análisis exploratorio de datos. Una vez tengamos una idea de los datos, el tipo de los datos y algunas medidas estadísticas, será más facil elegir el tipo de gráfico correcto.\n",
    "\n",
    "Bueno, eso lo veremos después y se perfeccionarán a medida que avancen en sus materias de maestría."
   ]
  },
  {
   "cell_type": "markdown",
   "metadata": {},
   "source": [
    "Veremos cada uno de los tipos de gráfico con un ejemplo.\n",
    "\n",
    "### Gráfico de línea: \n",
    "\n",
    "Es el que ya vimos para hacer funciones. Es un tipo de gráfico que muestra información como una serie de puntos llamados `markers` y conectados por líneas rectas. En este tipo de gráfico, necesitamos que los datos estén ordenados en sus valores x.\n",
    "\n",
    "Suele ser usado para visualizar tendencias de variables sobre intervalos de tiempo (series de tiempo)."
   ]
  },
  {
   "cell_type": "code",
   "execution_count": 53,
   "metadata": {},
   "outputs": [
    {
     "data": {
      "text/plain": [
       "array([1983, 1984, 1985, 1986, 1987])"
      ]
     },
     "execution_count": 53,
     "metadata": {},
     "output_type": "execute_result"
    }
   ],
   "source": [
    "# Datos de población en Bulgaria en el tiempo\n",
    "year = np.arange(1983,1988)\n",
    "year"
   ]
  },
  {
   "cell_type": "code",
   "execution_count": 54,
   "metadata": {},
   "outputs": [],
   "source": [
    "total_pop = np.array([89215,88512,98512, 99512, 100512])"
   ]
  },
  {
   "cell_type": "code",
   "execution_count": 56,
   "metadata": {},
   "outputs": [
    {
     "data": {
      "text/plain": [
       "((5,), (5,))"
      ]
     },
     "execution_count": 56,
     "metadata": {},
     "output_type": "execute_result"
    }
   ],
   "source": [
    "year.shape, total_pop.shape"
   ]
  },
  {
   "cell_type": "code",
   "execution_count": 57,
   "metadata": {},
   "outputs": [
    {
     "data": {
      "text/plain": [
       "Text(0, 0.5, 'Población')"
      ]
     },
     "execution_count": 57,
     "metadata": {},
     "output_type": "execute_result"
    },
    {
     "data": {
      "image/png": "[encoded data removed]",
      "text/plain": [
       "<Figure size 432x288 with 1 Axes>"
      ]
     },
     "metadata": {
      "needs_background": "light"
     },
     "output_type": "display_data"
    }
   ],
   "source": [
    "# Gráfico de línea\n",
    "plt.figure(figsize=(6,4))\n",
    "plt.plot(year, total_pop, 'ob')\n",
    "plt.grid()\n",
    "plt.xlabel('Años')\n",
    "plt.ylabel('Población')"
   ]
  },
  {
   "cell_type": "code",
   "execution_count": null,
   "metadata": {},
   "outputs": [],
   "source": []
  },
  {
   "cell_type": "markdown",
   "metadata": {},
   "source": [
    "### Dispersión de puntos:\n",
    "\n",
    "Este tipo de gráfico muestra puntos individuales. No se conectan con líneas. Cada punto tiene su valor en `x` y su valor en `y`. \n",
    "\n",
    "Este tipo de gráfico suele ser útil para mostrar tendencias o correlaciones (comparando dos variables)."
   ]
  },
  {
   "cell_type": "code",
   "execution_count": 58,
   "metadata": {},
   "outputs": [],
   "source": [
    "# Datos de temperatura y de cantidad de helados vendidos\n",
    "temp = np.array([30, 32, 33, 28.5, 35, 29, 29])\n",
    "ice_cream = np.array([100, 115, 116, 80, 125, 79, 89])"
   ]
  },
  {
   "cell_type": "code",
   "execution_count": 59,
   "metadata": {},
   "outputs": [
    {
     "data": {
      "text/plain": [
       "Text(0, 0.5, 'Venta de helados')"
      ]
     },
     "execution_count": 59,
     "metadata": {},
     "output_type": "execute_result"
    },
    {
     "data": {
      "image/png": "[encoded data removed]",
      "text/plain": [
       "<Figure size 432x288 with 1 Axes>"
      ]
     },
     "metadata": {
      "needs_background": "light"
     },
     "output_type": "display_data"
    }
   ],
   "source": [
    "# Dispersión de puntos\n",
    "plt.figure(figsize=(6,4))\n",
    "plt.scatter(temp, ice_cream)\n",
    "plt.grid()\n",
    "plt.xlabel('Temperatura')\n",
    "plt.ylabel('Venta de helados')"
   ]
  },
  {
   "cell_type": "code",
   "execution_count": 61,
   "metadata": {},
   "outputs": [],
   "source": [
    "from sklearn.linear_model import LinearRegression"
   ]
  },
  {
   "cell_type": "code",
   "execution_count": 63,
   "metadata": {},
   "outputs": [
    {
     "data": {
      "text/plain": [
       "LinearRegression()"
      ]
     },
     "execution_count": 63,
     "metadata": {},
     "output_type": "execute_result"
    }
   ],
   "source": [
    "model = LinearRegression()\n",
    "model.fit(temp.reshape(len(temp),1),ice_cream)"
   ]
  },
  {
   "cell_type": "code",
   "execution_count": 64,
   "metadata": {},
   "outputs": [],
   "source": [
    "y_pred = model.predict(temp.reshape(len(temp),1))"
   ]
  },
  {
   "cell_type": "code",
   "execution_count": 65,
   "metadata": {},
   "outputs": [
    {
     "data": {
      "text/plain": [
       "array([ 93.87179487, 108.30177515, 115.51676529,  83.04930966,\n",
       "       129.94674556,  86.65680473,  86.65680473])"
      ]
     },
     "execution_count": 65,
     "metadata": {},
     "output_type": "execute_result"
    }
   ],
   "source": [
    "y_pred"
   ]
  },
  {
   "cell_type": "code",
   "execution_count": 67,
   "metadata": {},
   "outputs": [
    {
     "data": {
      "text/plain": [
       "Text(0, 0.5, 'Venta de helados')"
      ]
     },
     "execution_count": 67,
     "metadata": {},
     "output_type": "execute_result"
    },
    {
     "data": {
      "image/png": "[encoded data removed]",
      "text/plain": [
       "<Figure size 432x288 with 1 Axes>"
      ]
     },
     "metadata": {
      "needs_background": "light"
     },
     "output_type": "display_data"
    }
   ],
   "source": [
    "# Dispersión de puntos\n",
    "plt.figure(figsize=(6,4))\n",
    "plt.scatter(temp, ice_cream)\n",
    "plt.plot(temp, y_pred, '.-r')\n",
    "plt.grid()\n",
    "plt.xlabel('Temperatura')\n",
    "plt.ylabel('Venta de helados')"
   ]
  },
  {
   "cell_type": "markdown",
   "metadata": {},
   "source": [
    "### Histograma: \n",
    "\n",
    "Es una representación precisa para distribuciones de datos numéricos.\n",
    "\n",
    "El algoritmo para crear un histograma consta de ciertos pasos:\n",
    "- Primero, se divide el rango total de valores en una serie de intervalos consecutivos y disjuntos (bins).\n",
    "- Segundo, se cuenta cuantos valores caen dentro de cada intervalo.\n",
    "- Se grafican las cantidades en cada intervalo."
   ]
  },
  {
   "cell_type": "code",
   "execution_count": 68,
   "metadata": {},
   "outputs": [
    {
     "data": {
      "text/plain": [
       "array([0.1, 0.5, 1. , 1.1, 2. , 4. , 5.5, 6. , 8. , 9. ])"
      ]
     },
     "execution_count": 68,
     "metadata": {},
     "output_type": "execute_result"
    }
   ],
   "source": [
    "# Números\n",
    "numeros = np.array([0.1,0.5,1,1.1,2,4,5.5,6,8,9])\n",
    "numeros"
   ]
  },
  {
   "cell_type": "code",
   "execution_count": 70,
   "metadata": {},
   "outputs": [
    {
     "data": {
      "text/plain": [
       "(array([2., 2., 1., 0., 1., 0., 2., 0., 1., 1.]),\n",
       " array([0.1 , 0.99, 1.88, 2.77, 3.66, 4.55, 5.44, 6.33, 7.22, 8.11, 9.  ]),\n",
       " <BarContainer object of 10 artists>)"
      ]
     },
     "execution_count": 70,
     "metadata": {},
     "output_type": "execute_result"
    },
    {
     "data": {
      "image/png": "[encoded data removed]",
      "text/plain": [
       "<Figure size 432x288 with 1 Axes>"
      ]
     },
     "metadata": {
      "needs_background": "light"
     },
     "output_type": "display_data"
    }
   ],
   "source": [
    "# Histograma\n",
    "plt.hist(numeros, bins=10)"
   ]
  },
  {
   "cell_type": "code",
   "execution_count": 75,
   "metadata": {},
   "outputs": [
    {
     "data": {
      "text/plain": [
       "array([-2.62172790e-01, -1.02052671e+00, -2.48198541e-02, -2.83538232e-01,\n",
       "       -2.75477887e-01,  4.36641295e-01, -3.51699562e-01, -1.10579446e+00,\n",
       "       -7.18612652e-01, -1.51309766e+00,  9.59985693e-02,  1.33981743e+00,\n",
       "       -4.62993488e-01, -1.47098704e+00,  1.35564702e+00, -1.77149706e-01,\n",
       "       -1.59305856e+00, -1.41195385e+00, -1.31209807e+00,  9.95994634e-02,\n",
       "        2.62514977e-01,  8.02368457e-01, -4.55340467e-01, -7.88711050e-02,\n",
       "        2.38277648e-01, -6.27021924e-02, -1.34884992e+00, -1.31335559e-01,\n",
       "        1.10313837e-01,  7.61137197e-02, -3.26898356e-01,  1.34910772e+00,\n",
       "        9.99170249e-01,  6.29481236e-01,  1.12342629e+00, -2.19136905e+00,\n",
       "        5.46599939e-01,  8.66673806e-01, -1.27365710e+00,  6.62951827e-01,\n",
       "        9.16522132e-01,  9.67489102e-01, -4.68056155e-01,  9.73102174e-02,\n",
       "       -2.13400515e-01, -5.75991157e-02,  6.15874978e-01,  6.65535189e-01,\n",
       "       -8.93513778e-01, -9.18747901e-01, -2.58742766e+00, -4.84821479e-01,\n",
       "       -1.00941959e+00, -1.59139936e+00,  2.62443470e-01, -4.96014209e-01,\n",
       "       -8.73781621e-01,  1.77590129e+00,  1.35919699e+00,  4.93861470e-01,\n",
       "        8.46991647e-01, -1.44515936e-01,  1.85332911e+00,  7.70338205e-01,\n",
       "        7.55275011e-01, -1.52740156e-03, -2.88363251e-02, -4.22161575e-01,\n",
       "       -1.05158023e+00,  9.82607152e-01, -2.48608621e+00,  1.90588204e+00,\n",
       "        8.99505037e-01,  5.27735217e-01, -4.64826454e-02,  4.42382738e-01,\n",
       "        2.18745951e-01, -1.28866827e+00,  6.51748362e-01,  3.17329946e-01,\n",
       "       -1.46812965e+00,  7.73728694e-01, -8.09379495e-01,  6.95711924e-01,\n",
       "       -4.75953233e-01,  9.92078146e-01, -1.41394857e+00,  1.10309866e+00,\n",
       "       -4.93410166e-01, -4.25513264e-01,  1.72870797e+00,  2.19601901e+00,\n",
       "        7.76508340e-01,  3.65790493e-01, -2.02836489e+00, -3.55363806e-01,\n",
       "       -1.26103323e+00,  1.25562010e+00,  3.36028065e-01, -3.08046785e+00,\n",
       "        1.79835689e+00,  1.22406088e+00, -3.02772084e+00,  3.37955692e-01,\n",
       "        3.52952592e-01, -4.71257403e-01, -8.74358866e-01,  6.42315595e-01,\n",
       "        5.18647114e-03,  1.19683941e+00,  7.69001698e-01, -2.28025797e+00,\n",
       "        1.85933550e-01,  6.00228709e-01,  8.42439864e-01,  1.11650300e+00,\n",
       "        2.47762215e+00, -2.44910409e+00, -1.12100109e+00,  5.28420468e-01,\n",
       "       -5.40511511e-02, -1.34584971e+00, -3.11305406e-01,  4.67877524e-01,\n",
       "        1.18448333e+00,  2.11840164e-01, -2.23608325e-01, -1.16756234e+00,\n",
       "        3.33289939e-01,  7.36258361e-02,  4.94660016e-02, -4.86097968e-01,\n",
       "        1.82665416e-01, -5.59062374e-01,  1.87098042e-01,  2.14062404e-01,\n",
       "        1.10982713e+00,  9.43009966e-01, -1.37471045e-01,  7.93552249e-01,\n",
       "       -1.48505875e-01, -7.43483187e-01, -5.38350247e-01, -6.31849561e-01,\n",
       "        5.88802170e-01,  5.65143179e-02, -1.21181251e+00, -2.56525002e-01,\n",
       "       -5.11402479e-01,  2.56007649e-01,  3.72945998e-01, -5.82824700e-02,\n",
       "        6.20660154e-01,  1.12370203e+00,  2.95181945e-01,  1.09940052e+00,\n",
       "       -1.99986927e-01, -2.27160484e+00,  1.66502772e-01, -7.68170901e-01,\n",
       "       -1.21034738e+00, -2.04065599e-02, -2.16103075e+00,  3.55310427e-01,\n",
       "       -8.20374469e-02, -2.92099041e-01,  5.26475555e-04,  9.06383152e-01,\n",
       "       -2.54838152e-01,  1.77567738e-01, -2.40879449e-01, -1.62688076e+00,\n",
       "        2.06954415e+00,  1.11026881e+00,  4.15528539e-01,  1.77808750e+00,\n",
       "       -3.31098659e-01, -1.53072226e+00, -1.87342561e+00,  9.55522737e-01,\n",
       "       -1.16839047e+00,  8.91565658e-01,  4.87536061e-01,  6.52199804e-01,\n",
       "        6.00618153e-01, -2.12778634e-01, -1.17915162e+00, -3.21433766e-01,\n",
       "       -3.53364426e-01,  3.36873658e-01, -1.07781482e+00, -2.05325167e-01,\n",
       "        8.57862708e-02,  1.30113601e+00,  4.10020757e-01,  1.91078747e+00,\n",
       "       -1.01923315e+00, -6.88794862e-02,  4.84570546e-01,  1.43713317e+00,\n",
       "       -7.64099073e-01,  7.70623690e-01,  1.40816647e+00, -3.00014829e-01,\n",
       "       -2.69525192e-01, -7.39637683e-01, -3.15117510e-02, -1.09472203e+00,\n",
       "        9.26553334e-01, -1.28841035e+00,  1.18941863e+00,  1.00727092e+00,\n",
       "        7.21466383e-01,  2.11668920e+00,  2.48973799e-02, -1.30315434e+00,\n",
       "        9.20375208e-01,  5.34168946e-01, -8.07299618e-01, -9.90957197e-01,\n",
       "        6.43511525e-01, -1.17544762e+00, -1.99575105e+00,  3.44138034e-01,\n",
       "        1.39303802e-01, -2.69917843e+00,  3.03313559e-01, -7.03456485e-01,\n",
       "       -8.89261984e-01,  5.70004595e-01,  4.66161030e-01, -1.17093574e+00,\n",
       "       -6.35492642e-02,  8.42018749e-01, -7.19775065e-01, -1.43186271e+00,\n",
       "        1.19914291e-02,  3.05258543e-01,  4.45473593e-01,  1.05779298e+00,\n",
       "        3.87639608e-01,  3.78035230e-01, -7.72623945e-01, -1.03685478e+00,\n",
       "        9.83528832e-01, -5.48155231e-01,  7.30367541e-01, -6.72572936e-01,\n",
       "       -6.46217165e-01, -5.26170555e-01, -1.28903551e+00, -6.54685780e-01,\n",
       "       -3.05700617e-01, -1.19131673e+00, -2.51866322e-01, -1.22680006e+00,\n",
       "       -2.22873922e+00,  1.13788439e+00,  2.56206322e+00,  4.22125587e-02,\n",
       "       -1.61463644e+00,  1.44795316e+00,  1.78302596e-01, -2.11917855e-01,\n",
       "       -8.73737179e-01,  2.04948204e+00,  3.40566067e-02,  2.76175180e-01,\n",
       "        9.70630107e-01, -3.86786256e-01, -7.78295631e-01, -4.24091518e-01,\n",
       "        1.55425767e-01, -1.67256933e-01, -4.18242788e-01,  3.14186963e-01,\n",
       "       -1.62209054e+00,  3.77313643e-01, -1.10202906e+00, -1.58277119e+00,\n",
       "        5.37423368e-02, -5.23655274e-01,  1.14052580e+00, -8.71292127e-01,\n",
       "       -7.53163853e-01, -2.77184605e+00,  1.75884325e-01, -1.60739664e+00,\n",
       "        4.95816606e-01,  1.61930660e-01, -9.38625119e-01,  9.21787502e-01,\n",
       "        5.31437321e-01,  2.29096727e+00,  2.52010853e-01,  2.12635378e-01,\n",
       "        8.21003224e-01, -1.00780262e+00, -1.01558029e+00, -1.90825009e+00,\n",
       "       -1.44208964e+00, -3.97071741e-03, -1.09351768e-01, -3.44122635e-01,\n",
       "       -8.58821082e-01,  5.29575135e-01, -1.95895152e-01,  6.57498060e-01,\n",
       "        1.18961554e+00,  2.24701374e-01,  1.04823461e+00,  1.53802125e+00,\n",
       "       -9.15803239e-01,  3.42666931e-01,  5.43723453e-02, -6.01208994e-02,\n",
       "       -1.70715690e-01,  1.36072701e-01,  1.26693519e-01,  5.21328859e-01,\n",
       "        4.50455585e-01,  5.86776076e-01,  5.22787743e-01, -8.51392442e-01,\n",
       "       -6.25739943e-01,  1.47577456e+00, -1.47506544e-01,  1.36528097e+00,\n",
       "        1.13095166e+00, -2.94667124e-01, -1.87628395e+00,  2.03909138e+00,\n",
       "        1.15687833e+00, -3.73545613e-01, -2.16997460e+00,  8.63457715e-01,\n",
       "       -3.14900462e-01, -9.38550076e-01, -8.67456097e-01,  1.84723470e-01,\n",
       "        4.92116330e-01, -7.39707539e-01, -5.57891071e-01, -7.88035552e-01,\n",
       "        1.34324360e+00,  6.90313868e-02, -1.29595731e+00,  1.06798289e+00,\n",
       "       -3.60617553e-01, -1.55280905e+00,  1.34460578e+00,  5.22097765e-01,\n",
       "        9.42446659e-01, -5.89227393e-01,  1.94655272e-01, -1.45140679e+00,\n",
       "        7.84683650e-01, -2.22399260e+00, -2.63575330e-01, -1.55034610e+00,\n",
       "       -9.27419108e-01, -1.28227486e+00, -3.48503566e-01, -5.12348937e-01,\n",
       "       -1.16988268e+00, -1.17432257e+00,  1.03208799e+00,  4.35684694e-01,\n",
       "        1.34048856e+00,  2.16448838e+00, -2.22420894e-01, -5.60039373e-01,\n",
       "        3.09121570e-01, -1.17492226e+00,  6.27872186e-01, -1.94345526e+00,\n",
       "        5.96350577e-01,  4.96022362e-01,  8.47557937e-01, -8.32606435e-01,\n",
       "        7.13207133e-01, -7.61290509e-01,  7.23382548e-01,  1.42926386e+00,\n",
       "       -2.46965752e+00, -7.12195734e-01,  6.88951792e-01, -3.39658775e-01,\n",
       "        1.58107162e+00, -7.68396867e-01, -1.34832727e-01, -6.16685106e-01,\n",
       "       -1.55468395e+00, -6.60617948e-01, -7.26416683e-01,  1.02540206e-01,\n",
       "       -6.00563736e-01,  2.29984432e-01, -8.46626732e-03, -1.91323673e-01,\n",
       "        8.78490233e-01, -1.04487199e+00,  4.59336476e-01,  5.99260982e-01,\n",
       "        7.39421264e-01, -8.66338440e-01, -6.80435471e-01, -8.33718197e-02,\n",
       "        6.98220884e-01,  3.00628272e-01,  6.23023377e-01,  9.78714834e-01,\n",
       "        1.17153809e+00,  2.03331498e-01, -8.12512120e-01,  1.40821703e+00,\n",
       "       -7.99534271e-01,  5.08544287e-01, -4.29290509e-01,  1.06488607e+00,\n",
       "        7.44528074e-01, -8.04583882e-01, -6.60652640e-01,  7.37696256e-01,\n",
       "        2.94501358e-01,  8.65922924e-01, -5.93800644e-01,  1.61996990e+00,\n",
       "       -1.89767214e+00, -1.16427409e+00, -1.48191162e-01,  1.27783278e-01,\n",
       "        2.95847290e-01, -7.17658373e-01,  1.17015979e+00, -6.63613655e-02,\n",
       "        5.91423062e-03,  1.42326217e-02, -1.69812186e-01, -3.68875101e-01,\n",
       "       -2.25731303e+00,  1.15808618e+00, -6.66729330e-01, -7.81194934e-01,\n",
       "        4.78276122e-01,  1.57310695e-01,  1.64371646e+00,  2.88197579e-01,\n",
       "       -1.01248981e+00, -1.31456912e+00,  1.91713790e-01, -9.19559813e-01,\n",
       "       -1.85587575e-01, -2.84764896e-01,  1.41870755e-01,  1.13513873e+00,\n",
       "       -1.63506102e+00, -6.42968517e-01, -1.11131907e+00,  1.11089190e+00,\n",
       "        1.10788025e+00,  1.92018628e-01,  1.42465534e+00,  1.82557070e+00,\n",
       "        5.54848040e-01,  8.83251365e-01,  1.12302256e+00,  1.05596391e+00,\n",
       "        5.94567615e-01,  1.33360468e+00,  4.47755341e-01, -5.51195349e-01,\n",
       "        1.35938828e+00,  1.61929268e+00,  1.34611956e+00, -3.08432323e-01,\n",
       "        1.17437653e+00,  7.17766615e-01,  8.34234671e-01,  9.59541612e-01,\n",
       "        1.00311472e+00, -6.51405028e-01, -7.94771564e-01, -4.55047956e-01,\n",
       "        1.44503045e+00,  1.46494443e+00,  1.05053022e+00, -3.62498319e-01,\n",
       "        3.70769249e-01,  1.67892887e+00, -1.41108819e-01, -1.14924230e-01,\n",
       "        1.33354701e+00, -6.76719054e-01, -1.34766187e+00,  1.47033130e+00,\n",
       "        1.02253903e+00,  2.13818334e+00,  5.76500192e-01,  5.88293125e-01,\n",
       "        1.11211816e+00, -1.30990148e+00,  7.10539889e-01,  6.90850764e-01,\n",
       "       -1.65894657e+00, -1.45144165e-01,  4.23909055e-01, -2.84237859e+00,\n",
       "        1.56996776e+00,  5.25055044e-01, -3.78619668e-01,  4.47566454e-01,\n",
       "        6.83664287e-01, -9.80098152e-02,  2.97638135e-01,  9.90846883e-01,\n",
       "       -8.89531590e-01,  7.16586170e-01, -2.61401201e-01,  1.43345749e+00,\n",
       "        1.47049587e+00, -3.03612698e-01,  8.69161281e-01, -9.25520010e-02,\n",
       "       -7.87961577e-01, -5.06356509e-01, -7.55234752e-01,  5.01179764e-01,\n",
       "        2.86790030e-01, -7.47554809e-02, -2.31697772e-01, -1.60830557e+00,\n",
       "        1.43494125e+00, -2.37681787e+00,  5.31774048e-01, -6.43670151e-01,\n",
       "       -2.83617291e-01,  6.26206144e-01, -8.92811140e-01, -3.30049052e-01,\n",
       "       -2.08204924e-01,  8.12964234e-01,  8.62190314e-02,  1.28105555e+00,\n",
       "       -1.05638227e+00,  6.91205425e-01, -4.99930168e-01,  2.03615375e+00,\n",
       "       -4.85343812e-01,  4.14096541e-01,  1.20547253e-01, -1.07327864e+00,\n",
       "        5.04149699e-01, -7.94708153e-01,  2.53193669e+00,  1.03536341e+00,\n",
       "        7.04702682e-01, -1.25461650e+00, -6.12637841e-01, -3.47419814e-01,\n",
       "       -9.34185257e-01, -6.46657459e-01, -5.81833955e-01, -1.02249955e+00,\n",
       "       -1.49279084e+00, -9.32516853e-01, -1.04157166e-01,  1.14572831e+00,\n",
       "        4.95752847e-01,  1.91579097e-01,  1.06413918e-01,  6.95120487e-01,\n",
       "       -7.22726422e-02,  1.51264831e-01, -1.60508652e-01, -6.51914891e-02,\n",
       "       -1.31846917e+00, -2.22056854e-01,  7.52097492e-01, -7.00684130e-01,\n",
       "        9.36567346e-02,  6.42541573e-01,  1.04568503e+00,  2.09526570e+00,\n",
       "        2.04870707e-01, -5.81342284e-01,  1.03221530e+00, -5.20395939e-02,\n",
       "        1.32418362e+00,  6.28916094e-01,  4.93539817e-01, -9.84239384e-01,\n",
       "        1.01745175e+00,  2.49339717e-01,  2.24771195e-03, -9.91411816e-01,\n",
       "        1.32680262e+00,  3.22647279e-01,  1.29101854e+00,  4.14837883e-01,\n",
       "       -2.00507810e-02,  6.46347170e-01,  1.51466376e+00,  9.24610472e-01,\n",
       "        8.78624610e-02,  4.25955674e-01,  4.73873802e-01, -1.33859123e-03,\n",
       "       -1.38165111e+00,  2.44944820e+00,  6.41143708e-01, -4.71138001e-02,\n",
       "       -5.98406142e-01, -1.19403309e-01, -3.95654630e-01, -2.01398018e+00,\n",
       "       -9.15059230e-01, -1.53448433e+00,  6.45230840e-01,  1.45851906e-01,\n",
       "       -1.41011254e+00,  1.83294896e+00,  1.89284090e+00, -2.22245860e+00,\n",
       "        1.49000729e+00,  9.18206314e-01, -1.52636888e+00, -9.63733827e-02,\n",
       "        5.77533423e-01, -2.95109965e-01, -1.00749671e+00, -1.28512550e+00,\n",
       "       -1.43732832e+00,  1.13729249e+00, -5.03618756e-01,  5.65981991e-01,\n",
       "       -7.25516498e-01,  5.67924747e-01, -2.99846938e-01,  1.69344220e-01,\n",
       "        5.51415004e-01, -1.82013086e+00,  1.78827732e-01,  8.42090314e-02,\n",
       "        1.38220704e+00,  7.16243420e-01, -4.14795273e-01,  3.56761192e-01,\n",
       "        7.57103127e-01, -1.72389674e+00, -2.40863380e+00, -9.00053014e-01,\n",
       "       -2.42972337e-01, -1.01050163e+00,  6.29004779e-01, -1.16243030e-01,\n",
       "       -1.67307969e+00, -6.40823600e-01, -3.73153042e-01, -1.03642270e+00,\n",
       "        6.22742456e-01, -2.36839682e-01, -1.51115131e+00, -2.74479244e-01,\n",
       "        3.32887354e-01,  3.00215686e-01, -2.30132748e+00, -7.43060982e-01,\n",
       "       -1.36134667e+00, -9.81066375e-01, -1.24909659e+00,  1.12221332e+00,\n",
       "       -5.55948075e-01,  5.68103842e-01, -1.45616975e-01,  2.80932360e-01,\n",
       "        3.25072116e-01,  1.69783528e+00,  7.48324849e-01, -8.19376271e-01,\n",
       "       -2.61219747e+00,  8.71712627e-01, -3.42244915e-01, -2.16864855e-01,\n",
       "        1.19762213e-01, -1.19817136e-01, -1.06139976e+00,  1.87300767e+00,\n",
       "       -2.38328026e-01,  1.67575825e+00,  1.67611317e-01, -4.05939813e-01,\n",
       "       -9.92558779e-01, -1.69946882e+00,  1.78284470e+00,  4.76448152e-01,\n",
       "        2.56631983e+00, -3.70748352e-01, -5.23444271e-01,  6.49606284e-01,\n",
       "        5.66346638e-02, -3.07501563e-01,  1.72410928e+00, -4.11117413e-01,\n",
       "        1.20045914e+00, -1.83090237e+00,  1.11733544e-01, -1.90036076e+00,\n",
       "        1.43973784e+00, -1.04467112e-01, -8.65420032e-01,  2.82802776e-01,\n",
       "       -1.30385422e+00,  4.55036895e-01, -9.39544310e-01,  3.70732050e-01,\n",
       "        3.67654567e-01, -4.98387822e-02,  2.35915980e-01,  5.12702337e-01,\n",
       "       -2.75502105e-01, -1.90920064e-02, -8.47990728e-01, -1.19304493e+00,\n",
       "        1.45007143e+00,  8.49901998e-01,  2.71589471e-01,  1.77605115e+00,\n",
       "        5.70193508e-01, -4.75391642e-01,  8.79300394e-01,  2.99193713e-01,\n",
       "        1.00575674e+00,  4.08446282e-01, -1.88542443e+00,  2.08932700e+00,\n",
       "       -1.93421369e-01,  6.77432984e-01,  1.83801942e+00, -7.80619955e-01,\n",
       "       -1.85678288e+00,  3.46662253e-01, -3.01718275e-01, -3.88310770e-01,\n",
       "       -8.03925544e-01, -4.15825399e-01,  1.49483934e+00,  6.62897993e-01,\n",
       "        7.00401531e-01, -3.76001173e-01,  2.70511682e-01, -8.54809413e-02,\n",
       "       -7.17859445e-01, -1.21312104e+00,  5.24247723e-01,  1.32682674e-01,\n",
       "        6.55285118e-01, -2.51969672e+00, -4.97214982e-01,  9.01074202e-01,\n",
       "       -2.47773257e+00,  1.33049453e+00, -2.10966935e-01,  6.09889825e-01,\n",
       "       -6.12770460e-01, -1.82213708e+00,  4.76836718e-02,  1.96762258e-01,\n",
       "        5.66298880e-01,  3.10423482e-01, -1.08079224e+00,  1.33892129e-01,\n",
       "       -5.16027627e-01, -7.79619655e-02,  8.24745426e-01,  1.19001596e+00,\n",
       "        3.74807798e-01, -1.41350284e-01, -1.70930929e+00,  3.43385115e-01,\n",
       "       -1.13142490e+00, -6.58931664e-01, -1.48077413e+00,  1.21702306e+00,\n",
       "       -3.44469740e-01,  1.58621492e-01, -8.53412609e-02,  6.61866805e-01,\n",
       "       -1.03736592e+00, -5.74639101e-01, -6.93808710e-01,  1.39006903e+00,\n",
       "       -4.04425847e-01,  4.80651731e-01,  4.52887911e-01,  9.70738655e-01,\n",
       "        1.66251474e+00,  5.78754427e-01, -1.44102703e+00,  5.77894881e-01,\n",
       "        6.51338518e-01, -7.91627197e-02, -4.06905810e-01,  7.70854319e-02,\n",
       "       -9.02813820e-01, -1.60425018e+00, -2.76239520e-01,  8.73527086e-02,\n",
       "       -1.31644561e+00, -4.10423892e-01,  3.90072570e-01,  4.23633603e-01,\n",
       "       -8.19872575e-01,  4.57365718e-01,  1.70232796e-01,  8.93012338e-01,\n",
       "        1.55267837e+00, -1.07095663e+00,  1.32752102e+00, -1.32958342e-01,\n",
       "        2.26760819e+00, -5.67718428e-01,  6.65384327e-01,  3.17276323e-01,\n",
       "        3.76408539e-01, -7.23851651e-01, -2.99979461e-01, -1.50821306e-01,\n",
       "        2.29394202e-01,  1.69284755e+00,  4.59132097e-02, -8.10818323e-01,\n",
       "       -2.55070021e+00,  3.65785494e-01, -7.02627251e-01, -1.68350665e+00,\n",
       "        1.21774414e+00,  1.24583308e+00,  4.09107789e-01,  2.65683754e-01,\n",
       "       -1.33767838e+00, -1.15207658e+00,  2.23354800e+00, -1.79793150e-01,\n",
       "        6.91079462e-01,  1.10953098e-01,  1.27554942e-01,  6.50560829e-02,\n",
       "       -3.23758525e-02, -1.16040580e+00, -9.93657610e-01, -1.39488211e+00,\n",
       "       -2.23262054e-01, -1.05845714e+00,  7.85817902e-01, -1.68069726e-01,\n",
       "       -2.34375339e-01,  1.37151906e-01, -3.14369011e-01,  1.97187403e+00,\n",
       "       -1.80203115e+00, -8.55021051e-01, -2.31224860e+00, -1.26098240e-01,\n",
       "       -8.26489007e-01, -5.81119800e-01,  2.43960666e+00,  2.14599722e+00,\n",
       "        8.48638766e-01,  7.82120144e-01, -9.09761624e-01,  5.22086161e-01,\n",
       "       -3.99505139e-01,  1.50671357e+00, -7.81155304e-01, -1.28647513e-01,\n",
       "        1.28706099e+00,  5.82765798e-01,  1.29998783e+00,  1.00567370e+00,\n",
       "        5.12301380e-02, -3.74329464e-01, -1.04811611e+00, -5.41475094e-01,\n",
       "       -3.17368285e-01,  2.81523434e-01, -1.34427723e+00,  3.34032140e-01,\n",
       "        5.35185515e-01,  3.46925517e-02,  1.04245573e-01, -6.97854226e-02,\n",
       "        1.65576730e+00, -4.69146235e-02, -3.21730075e-01,  1.24479011e+00,\n",
       "       -3.63357865e-01, -7.26259345e-01, -5.85641097e-02, -3.13064792e-01,\n",
       "       -1.18431388e+00, -2.40708822e-01,  5.28598848e-01, -7.37117275e-01,\n",
       "       -1.06018625e-01, -6.82517715e-01, -1.18723643e+00, -7.26939339e-01,\n",
       "       -2.57727064e-01, -8.23158068e-01,  4.68802367e-01,  1.02963471e+00,\n",
       "       -6.18201220e-01, -3.65495131e-01,  9.81080514e-02,  1.13097809e-01,\n",
       "        6.31336485e-01, -5.46115959e-01,  2.05094195e-02, -6.07740407e-01,\n",
       "       -5.47172444e-01, -1.25309159e-01,  1.75844811e+00, -4.15834893e-01,\n",
       "        1.54738186e-01, -1.07586844e+00,  1.02559867e+00,  8.22382703e-03,\n",
       "       -1.51846367e+00, -2.32958549e-01,  7.28308067e-01,  2.68819096e-01,\n",
       "       -1.39048754e+00,  1.63120640e+00, -1.00383892e+00, -1.06646873e+00,\n",
       "       -7.16581871e-01, -8.05385962e-02,  4.68553758e-01,  1.19805150e+00,\n",
       "       -1.37475431e+00, -2.99933824e-02,  4.16281030e-01,  1.00709888e+00,\n",
       "       -7.30552289e-01, -1.48691055e+00, -2.76706190e+00,  1.52340413e+00,\n",
       "       -5.23492977e-01, -2.84670654e-01,  5.78944632e-01,  2.10454960e-01,\n",
       "        1.41857135e-01, -1.02166630e+00,  1.60802853e+00, -1.75433671e+00,\n",
       "        1.49336541e+00,  5.83749006e-01,  7.26001271e-01,  8.77174635e-01,\n",
       "        2.92685309e-01,  3.21087193e-01, -6.53604881e-01, -6.24352450e-01,\n",
       "       -1.34149804e+00, -4.98710086e-01,  1.13318260e+00, -2.16411113e-02,\n",
       "        4.19633692e-01,  1.85144840e+00,  2.74330918e-01, -1.43955926e+00,\n",
       "        7.46227400e-01,  7.69801146e-01,  1.54397195e+00,  1.22010456e+00,\n",
       "        1.64096163e+00, -6.11216413e-01,  7.69545852e-01, -1.01649871e-01,\n",
       "       -1.07595230e+00, -8.52441018e-01, -9.12499338e-01, -4.55868040e-02,\n",
       "       -5.84445180e-01,  1.67495820e-01, -8.87658974e-01,  7.03682646e-02,\n",
       "       -1.11448298e+00,  1.31497867e+00, -1.94463322e+00,  1.65869435e+00,\n",
       "       -2.54502499e-01, -1.00971237e+00,  1.97337315e-01,  1.17193384e+00,\n",
       "       -5.29088150e-01,  8.47686919e-01, -1.80277882e-01, -1.63432938e-01])"
      ]
     },
     "execution_count": 75,
     "metadata": {},
     "output_type": "execute_result"
    }
   ],
   "source": [
    "# Ejemplo: histograma para una distribución normal\n",
    "data = np.random.normal(size=1000)\n",
    "data"
   ]
  },
  {
   "cell_type": "code",
   "execution_count": 76,
   "metadata": {},
   "outputs": [
    {
     "data": {
      "image/png": "[encoded data removed]",
      "text/plain": [
       "<Figure size 432x288 with 1 Axes>"
      ]
     },
     "metadata": {
      "needs_background": "light"
     },
     "output_type": "display_data"
    }
   ],
   "source": [
    "plt.hist(data, bins=50);"
   ]
  },
  {
   "cell_type": "code",
   "execution_count": null,
   "metadata": {},
   "outputs": [],
   "source": []
  },
  {
   "cell_type": "markdown",
   "metadata": {},
   "source": [
    "### Diagrama de caja:\n",
    "\n",
    "Es otra manera de resumir la distribución de datos basado en cinco números: mínimo, primer cuartil, mediana, tercer cuartil, y máximo. Veamos qué son cada uno de ellos:"
   ]
  },
  {
   "cell_type": "markdown",
   "metadata": {},
   "source": [
    "- El mínimo y el máximo creo que todos entendemos que son."
   ]
  },
  {
   "cell_type": "markdown",
   "metadata": {},
   "source": [
    "- La mediana es el valor que separa la mitad de los datos con valor más alto de la mitad de los datos con valor más bajo. \n",
    "\n",
    " - Se calcula de la siguiente manera: ordena tus valores y encuentra el valor de en medio. En caso de que el número de valores sea par, tenemos dos números de en medio, y por tanto la mediana es el número obtenido por la suma de esos dos números dividida entre dos. Por ejemplo, si tenemos 1, 2, 5, 6, 8, 9, la mediana es (5 + 6) / 2 = 5,5."
   ]
  },
  {
   "cell_type": "markdown",
   "metadata": {},
   "source": [
    "- El primer cuartil es la mediana de los valores menores a la mediana. Por ejemplo, si tenemos los valores 1, 3, 4, 7, 8, 8, 9, el primer cuartil es la mediana de los valores 1, 3, 4, de manera que es 3."
   ]
  },
  {
   "cell_type": "markdown",
   "metadata": {},
   "source": [
    "- El tercer cuartil es la mediana de los valores mayores a la mediana. Por ejemplo, si tenemos los valores 1, 3, 4, 7, 8, 8, 9, el primer cuartil es la mediana de los valores 8, 8, 9, de manera que es 8."
   ]
  },
  {
   "cell_type": "markdown",
   "metadata": {},
   "source": [
    "- Otro estadístico que se grafica es el IQR (interquartile range). El IQR aproxima la cantidad de dispersión datos en el 50% de datos de en medio. La fórmula es tercer cuartil - primer cuartil."
   ]
  },
  {
   "cell_type": "markdown",
   "metadata": {},
   "source": [
    "- Este tipo de gráfico también nos permite identificar valores atípicos. Un valor atípico es aquel que yace fuera del patrón general de los datos. Se visualizan como círculos en el diagrama de bigote. Cuando tenemos valores atípicos, los valores mínimo y máximo se calculan sobre los valores que no son atípicos.\n",
    "\n",
    " - Hay varias maneras de identificar valores atípicos. Una regla común es decir que un valor es atípico si es menor a primer cuartil - 1.5 * IQR, o mayor a tercer cuartil + 1.5 * IQR."
   ]
  },
  {
   "cell_type": "markdown",
   "metadata": {},
   "source": [
    "Demasiada información, ¿no?\n",
    "\n",
    "Veamos un ejemplo."
   ]
  },
  {
   "cell_type": "code",
   "execution_count": 77,
   "metadata": {},
   "outputs": [],
   "source": [
    "# Valores\n",
    "values = np.array([1,2,5,6,6,7,7,8,8,8,9,10,21])"
   ]
  },
  {
   "cell_type": "code",
   "execution_count": 78,
   "metadata": {},
   "outputs": [
    {
     "data": {
      "text/plain": [
       "array([ 1,  2,  5,  6,  6,  7,  7,  8,  8,  8,  9, 10, 21])"
      ]
     },
     "execution_count": 78,
     "metadata": {},
     "output_type": "execute_result"
    }
   ],
   "source": [
    "values"
   ]
  },
  {
   "cell_type": "code",
   "execution_count": 80,
   "metadata": {},
   "outputs": [
    {
     "data": {
      "text/plain": [
       "(13,)"
      ]
     },
     "execution_count": 80,
     "metadata": {},
     "output_type": "execute_result"
    }
   ],
   "source": [
    "values.shape"
   ]
  },
  {
   "cell_type": "code",
   "execution_count": 79,
   "metadata": {
    "scrolled": true
   },
   "outputs": [
    {
     "data": {
      "image/png": "[encoded data removed]",
      "text/plain": [
       "<Figure size 432x288 with 1 Axes>"
      ]
     },
     "metadata": {
      "needs_background": "light"
     },
     "output_type": "display_data"
    }
   ],
   "source": [
    "# Diagrama de caja\n",
    "st = plt.boxplot(values)\n"
   ]
  },
  {
   "cell_type": "markdown",
   "metadata": {},
   "source": [
    "¿Qué identificamos?\n",
    "\n",
    "- La mediana es 7\n",
    "- El primer cuartil es 6\n",
    "- El tercer cuartil es 8\n",
    "- El IQR es 2"
   ]
  },
  {
   "cell_type": "markdown",
   "metadata": {},
   "source": [
    "### Diagrama de barras\n",
    "\n",
    "Muy útil para representar datos categóricos. Cada barra tiene una altura que corresponde al valor que representa.\n",
    "\n",
    "Es útil cuando queremos comparar diferentes categorías en cuanto a alguna métrica."
   ]
  },
  {
   "cell_type": "code",
   "execution_count": 82,
   "metadata": {},
   "outputs": [],
   "source": [
    "# Cantidad de búsquedas en google para lenguajes de programación en 2018\n",
    "# 100 representa el tráfico anual de búsquedas más alto\n",
    "labels = ['Python', 'Java', 'JavaScript', 'R', 'C++']\n",
    "usage = np.array([60,52,35,15,10])"
   ]
  },
  {
   "cell_type": "code",
   "execution_count": 86,
   "metadata": {},
   "outputs": [
    {
     "name": "stdout",
     "output_type": "stream",
     "text": [
      "Help on function bar in module matplotlib.pyplot:\n",
      "\n",
      "bar(x, height, width=0.8, bottom=None, *, align='center', data=None, **kwargs)\n",
      "    Make a bar plot.\n",
      "    \n",
      "    The bars are positioned at *x* with the given *align*\\ment. Their\n",
      "    dimensions are given by *height* and *width*. The vertical baseline\n",
      "    is *bottom* (default 0).\n",
      "    \n",
      "    Many parameters can take either a single value applying to all bars\n",
      "    or a sequence of values, one for each bar.\n",
      "    \n",
      "    Parameters\n",
      "    ----------\n",
      "    x : float or array-like\n",
      "        The x coordinates of the bars. See also *align* for the\n",
      "        alignment of the bars to the coordinates.\n",
      "    \n",
      "    height : float or array-like\n",
      "        The height(s) of the bars.\n",
      "    \n",
      "    width : float or array-like, default: 0.8\n",
      "        The width(s) of the bars.\n",
      "    \n",
      "    bottom : float or array-like, default: 0\n",
      "        The y coordinate(s) of the bars bases.\n",
      "    \n",
      "    align : {'center', 'edge'}, default: 'center'\n",
      "        Alignment of the bars to the *x* coordinates:\n",
      "    \n",
      "        - 'center': Center the base on the *x* positions.\n",
      "        - 'edge': Align the left edges of the bars with the *x* positions.\n",
      "    \n",
      "        To align the bars on the right edge pass a negative *width* and\n",
      "        ``align='edge'``.\n",
      "    \n",
      "    Returns\n",
      "    -------\n",
      "    `.BarContainer`\n",
      "        Container with all the bars and optionally errorbars.\n",
      "    \n",
      "    Other Parameters\n",
      "    ----------------\n",
      "    color : color or list of color, optional\n",
      "        The colors of the bar faces.\n",
      "    \n",
      "    edgecolor : color or list of color, optional\n",
      "        The colors of the bar edges.\n",
      "    \n",
      "    linewidth : float or array-like, optional\n",
      "        Width of the bar edge(s). If 0, don't draw edges.\n",
      "    \n",
      "    tick_label : str or list of str, optional\n",
      "        The tick labels of the bars.\n",
      "        Default: None (Use default numeric labels.)\n",
      "    \n",
      "    xerr, yerr : float or array-like of shape(N,) or shape(2, N), optional\n",
      "        If not *None*, add horizontal / vertical errorbars to the bar tips.\n",
      "        The values are +/- sizes relative to the data:\n",
      "    \n",
      "        - scalar: symmetric +/- values for all bars\n",
      "        - shape(N,): symmetric +/- values for each bar\n",
      "        - shape(2, N): Separate - and + values for each bar. First row\n",
      "          contains the lower errors, the second row contains the upper\n",
      "          errors.\n",
      "        - *None*: No errorbar. (Default)\n",
      "    \n",
      "        See :doc:`/gallery/statistics/errorbar_features`\n",
      "        for an example on the usage of ``xerr`` and ``yerr``.\n",
      "    \n",
      "    ecolor : color or list of color, default: 'black'\n",
      "        The line color of the errorbars.\n",
      "    \n",
      "    capsize : float, default: :rc:`errorbar.capsize`\n",
      "       The length of the error bar caps in points.\n",
      "    \n",
      "    error_kw : dict, optional\n",
      "        Dictionary of kwargs to be passed to the `~.Axes.errorbar`\n",
      "        method. Values of *ecolor* or *capsize* defined here take\n",
      "        precedence over the independent kwargs.\n",
      "    \n",
      "    log : bool, default: False\n",
      "        If *True*, set the y-axis to be log scale.\n",
      "    \n",
      "    data : indexable object, optional\n",
      "        If given, all parameters also accept a string ``s``, which is\n",
      "        interpreted as ``data[s]`` (unless this raises an exception).\n",
      "    \n",
      "    **kwargs : `.Rectangle` properties\n",
      "    \n",
      "    Properties:\n",
      "        agg_filter: a filter function, which takes a (m, n, 3) float array and a dpi value, and returns a (m, n, 3) array\n",
      "        alpha: scalar or None\n",
      "        angle: unknown\n",
      "        animated: bool\n",
      "        antialiased or aa: bool or None\n",
      "        bounds: (left, bottom, width, height)\n",
      "        capstyle: `.CapStyle` or {'butt', 'projecting', 'round'}\n",
      "        clip_box: `.Bbox`\n",
      "        clip_on: bool\n",
      "        clip_path: Patch or (Path, Transform) or None\n",
      "        color: color\n",
      "        edgecolor or ec: color or None\n",
      "        facecolor or fc: color or None\n",
      "        figure: `.Figure`\n",
      "        fill: bool\n",
      "        gid: str\n",
      "        hatch: {'/', '\\\\', '|', '-', '+', 'x', 'o', 'O', '.', '*'}\n",
      "        height: unknown\n",
      "        in_layout: bool\n",
      "        joinstyle: `.JoinStyle` or {'miter', 'round', 'bevel'}\n",
      "        label: object\n",
      "        linestyle or ls: {'-', '--', '-.', ':', '', (offset, on-off-seq), ...}\n",
      "        linewidth or lw: float or None\n",
      "        path_effects: `.AbstractPathEffect`\n",
      "        picker: None or bool or float or callable\n",
      "        rasterized: bool\n",
      "        sketch_params: (scale: float, length: float, randomness: float)\n",
      "        snap: bool or None\n",
      "        transform: `.Transform`\n",
      "        url: str\n",
      "        visible: bool\n",
      "        width: unknown\n",
      "        x: unknown\n",
      "        xy: (float, float)\n",
      "        y: unknown\n",
      "        zorder: float\n",
      "    \n",
      "    See Also\n",
      "    --------\n",
      "    barh : Plot a horizontal bar plot.\n",
      "    \n",
      "    Notes\n",
      "    -----\n",
      "    Stacked bars can be achieved by passing individual *bottom* values per\n",
      "    bar. See :doc:`/gallery/lines_bars_and_markers/bar_stacked`.\n",
      "\n"
     ]
    }
   ],
   "source": [
    "help(plt.bar)"
   ]
  },
  {
   "cell_type": "code",
   "execution_count": 85,
   "metadata": {},
   "outputs": [
    {
     "data": {
      "text/plain": [
       "Text(0.5, 1.0, 'Busquedas de L. Prog')"
      ]
     },
     "execution_count": 85,
     "metadata": {},
     "output_type": "execute_result"
    },
    {
     "data": {
      "image/png": "[encoded data removed]",
      "text/plain": [
       "<Figure size 432x288 with 1 Axes>"
      ]
     },
     "metadata": {
      "needs_background": "light"
     },
     "output_type": "display_data"
    }
   ],
   "source": [
    "# Diagrama de barras\n",
    "plt.bar(labels, usage)\n",
    "plt.xlabel('Lenguajes de Prog')\n",
    "plt.ylabel('Busquedas en Google')\n",
    "plt.title('Busquedas de L. Prog')"
   ]
  },
  {
   "cell_type": "markdown",
   "metadata": {},
   "source": [
    "### Diagrama de pastel:\n",
    "\n",
    "Es un gráfico circular, dividido en tajadas para mostrar la proporción numérica. Son ampliamente utilizados en el mundo de los negocios.\n",
    "\n",
    "Sin embargo, varios experos recomiendan evitarlos, argumentando que es difícil comparar las secciones de un diagrama de pastel. Por otra parte, es difícil comparar datos con distintos diagramas de pastel. En la mayoría de los casos, se pueden reemplazar por un diagrama de barras."
   ]
  },
  {
   "cell_type": "code",
   "execution_count": 87,
   "metadata": {},
   "outputs": [],
   "source": [
    "sizes = [25,20,45,10]\n",
    "labels= ['cats','dogs','tigers', 'goats']"
   ]
  },
  {
   "cell_type": "code",
   "execution_count": 89,
   "metadata": {},
   "outputs": [
    {
     "data": {
      "image/png": "[encoded data removed]",
      "text/plain": [
       "<Figure size 432x288 with 1 Axes>"
      ]
     },
     "metadata": {},
     "output_type": "display_data"
    }
   ],
   "source": [
    "# Diagrama de pastel\n",
    "plt.pie(sizes, labels = labels);\n"
   ]
  },
  {
   "cell_type": "code",
   "execution_count": 90,
   "metadata": {},
   "outputs": [
    {
     "name": "stdout",
     "output_type": "stream",
     "text": [
      "Help on function pie in module matplotlib.pyplot:\n",
      "\n",
      "pie(x, explode=None, labels=None, colors=None, autopct=None, pctdistance=0.6, shadow=False, labeldistance=1.1, startangle=0, radius=1, counterclock=True, wedgeprops=None, textprops=None, center=(0, 0), frame=False, rotatelabels=False, *, normalize=True, data=None)\n",
      "    Plot a pie chart.\n",
      "    \n",
      "    Make a pie chart of array *x*.  The fractional area of each wedge is\n",
      "    given by ``x/sum(x)``.  If ``sum(x) < 1``, then the values of *x* give\n",
      "    the fractional area directly and the array will not be normalized. The\n",
      "    resulting pie will have an empty wedge of size ``1 - sum(x)``.\n",
      "    \n",
      "    The wedges are plotted counterclockwise, by default starting from the\n",
      "    x-axis.\n",
      "    \n",
      "    Parameters\n",
      "    ----------\n",
      "    x : 1D array-like\n",
      "        The wedge sizes.\n",
      "    \n",
      "    explode : array-like, default: None\n",
      "        If not *None*, is a ``len(x)`` array which specifies the fraction\n",
      "        of the radius with which to offset each wedge.\n",
      "    \n",
      "    labels : list, default: None\n",
      "        A sequence of strings providing the labels for each wedge\n",
      "    \n",
      "    colors : array-like, default: None\n",
      "        A sequence of colors through which the pie chart will cycle.  If\n",
      "        *None*, will use the colors in the currently active cycle.\n",
      "    \n",
      "    autopct : None or str or callable, default: None\n",
      "        If not *None*, is a string or function used to label the wedges\n",
      "        with their numeric value.  The label will be placed inside the\n",
      "        wedge.  If it is a format string, the label will be ``fmt % pct``.\n",
      "        If it is a function, it will be called.\n",
      "    \n",
      "    pctdistance : float, default: 0.6\n",
      "        The ratio between the center of each pie slice and the start of\n",
      "        the text generated by *autopct*.  Ignored if *autopct* is *None*.\n",
      "    \n",
      "    shadow : bool, default: False\n",
      "        Draw a shadow beneath the pie.\n",
      "    \n",
      "    normalize : bool, default: True\n",
      "        When *True*, always make a full pie by normalizing x so that\n",
      "        ``sum(x) == 1``. *False* makes a partial pie if ``sum(x) <= 1``\n",
      "        and raises a `ValueError` for ``sum(x) > 1``.\n",
      "    \n",
      "    labeldistance : float or None, default: 1.1\n",
      "        The radial distance at which the pie labels are drawn.\n",
      "        If set to ``None``, label are not drawn, but are stored for use in\n",
      "        ``legend()``\n",
      "    \n",
      "    startangle : float, default: 0 degrees\n",
      "        The angle by which the start of the pie is rotated,\n",
      "        counterclockwise from the x-axis.\n",
      "    \n",
      "    radius : float, default: 1\n",
      "        The radius of the pie.\n",
      "    \n",
      "    counterclock : bool, default: True\n",
      "        Specify fractions direction, clockwise or counterclockwise.\n",
      "    \n",
      "    wedgeprops : dict, default: None\n",
      "        Dict of arguments passed to the wedge objects making the pie.\n",
      "        For example, you can pass in ``wedgeprops = {'linewidth': 3}``\n",
      "        to set the width of the wedge border lines equal to 3.\n",
      "        For more details, look at the doc/arguments of the wedge object.\n",
      "        By default ``clip_on=False``.\n",
      "    \n",
      "    textprops : dict, default: None\n",
      "        Dict of arguments to pass to the text objects.\n",
      "    \n",
      "    center : (float, float), default: (0, 0)\n",
      "        The coordinates of the center of the chart.\n",
      "    \n",
      "    frame : bool, default: False\n",
      "        Plot Axes frame with the chart if true.\n",
      "    \n",
      "    rotatelabels : bool, default: False\n",
      "        Rotate each label to the angle of the corresponding slice if true.\n",
      "    \n",
      "    data : indexable object, optional\n",
      "        If given, the following parameters also accept a string ``s``, which is\n",
      "        interpreted as ``data[s]`` (unless this raises an exception):\n",
      "    \n",
      "        *x*, *explode*, *labels*, *colors*\n",
      "    \n",
      "    Returns\n",
      "    -------\n",
      "    patches : list\n",
      "        A sequence of `matplotlib.patches.Wedge` instances\n",
      "    \n",
      "    texts : list\n",
      "        A list of the label `.Text` instances.\n",
      "    \n",
      "    autotexts : list\n",
      "        A list of `.Text` instances for the numeric labels. This will only\n",
      "        be returned if the parameter *autopct* is not *None*.\n",
      "    \n",
      "    Notes\n",
      "    -----\n",
      "    The pie chart will probably look best if the figure and Axes are\n",
      "    square, or the Axes aspect is equal.\n",
      "    This method sets the aspect ratio of the axis to \"equal\".\n",
      "    The Axes aspect ratio can be controlled with `.Axes.set_aspect`.\n",
      "\n"
     ]
    }
   ],
   "source": [
    "help(plt.pie)"
   ]
  },
  {
   "cell_type": "markdown",
   "metadata": {},
   "source": [
    "## Les recomiendo ampliamente este [tutorial](https://matplotlib.org/stable/tutorials/introductory/pyplot.html)\n",
    "\n",
    "## Quiz para la sig clase"
   ]
  }
 ],
 "metadata": {
  "kernelspec": {
   "display_name": "Python 3 (ipykernel)",
   "language": "python",
   "name": "python3"
  },
  "language_info": {
   "codemirror_mode": {
    "name": "ipython",
    "version": 3
   },
   "file_extension": ".py",
   "mimetype": "text/x-python",
   "name": "python",
   "nbconvert_exporter": "python",
   "pygments_lexer": "ipython3",
   "version": "3.8.8"
  }
 },
 "nbformat": 4,
 "nbformat_minor": 2
}
